{
 "nbformat": 4,
 "nbformat_minor": 2,
 "metadata": {
  "language_info": {
   "name": "python",
   "codemirror_mode": {
    "name": "ipython",
    "version": 3
   },
   "version": "3.6.9-final"
  },
  "orig_nbformat": 2,
  "file_extension": ".py",
  "mimetype": "text/x-python",
  "name": "python",
  "npconvert_exporter": "python",
  "pygments_lexer": "ipython3",
  "version": 3,
  "kernelspec": {
   "name": "python36964bitpythondataconda126281240c234b3dbb97759dcc94d6eb",
   "display_name": "Python 3.6.9 64-bit ('PythonData': conda)"
  }
 },
 "cells": [
  {
   "cell_type": "code",
   "execution_count": 1,
   "metadata": {},
   "outputs": [],
   "source": [
    "import json\n",
    "import csv\n",
    "import pandas as pd\n",
    "import numpy as np\n",
    "from flask import jsonify"
   ]
  },
  {
   "cell_type": "code",
   "execution_count": 17,
   "metadata": {},
   "outputs": [],
   "source": [
    "jsonFilePath = '..\\recipeHealthy\\5IngredientQuinoaSaladwithEdamameandCarrots.json'"
   ]
  },
  {
   "cell_type": "code",
   "execution_count": 18,
   "metadata": {},
   "outputs": [
    {
     "ename": "OSError",
     "evalue": "[Errno 22] Invalid argument: '..\\recipeHealthy\\x05IngredientQuinoaSaladwithEdamameandCarrots.json'",
     "output_type": "error",
     "traceback": [
      "\u001b[1;31m---------------------------------------------------------------------------\u001b[0m",
      "\u001b[1;31mOSError\u001b[0m                                   Traceback (most recent call last)",
      "\u001b[1;32m<ipython-input-18-7bab81ed131a>\u001b[0m in \u001b[0;36m<module>\u001b[1;34m\u001b[0m\n\u001b[1;32m----> 1\u001b[1;33m \u001b[1;32mwith\u001b[0m \u001b[0mopen\u001b[0m\u001b[1;33m(\u001b[0m\u001b[0mjsonFilePath\u001b[0m\u001b[1;33m,\u001b[0m \u001b[1;34m'r'\u001b[0m\u001b[1;33m)\u001b[0m \u001b[1;32mas\u001b[0m \u001b[0mjsonFile\u001b[0m\u001b[1;33m:\u001b[0m\u001b[1;33m\u001b[0m\u001b[1;33m\u001b[0m\u001b[0m\n\u001b[0m\u001b[0;32m      2\u001b[0m     \u001b[0mjsonFile\u001b[0m\u001b[1;33m.\u001b[0m\u001b[0mwrite\u001b[0m\u001b[1;33m(\u001b[0m\u001b[0mjson\u001b[0m\u001b[1;33m.\u001b[0m\u001b[0mdumps\u001b[0m\u001b[1;33m(\u001b[0m\u001b[0mdata\u001b[0m\u001b[1;33m,\u001b[0m \u001b[0mindent\u001b[0m \u001b[1;33m=\u001b[0m \u001b[1;36m4\u001b[0m\u001b[1;33m)\u001b[0m\u001b[1;33m)\u001b[0m\u001b[1;33m\u001b[0m\u001b[1;33m\u001b[0m\u001b[0m\n",
      "\u001b[1;31mOSError\u001b[0m: [Errno 22] Invalid argument: '..\\recipeHealthy\\x05IngredientQuinoaSaladwithEdamameandCarrots.json'"
     ]
    }
   ],
   "source": [
    "with open(jsonFilePath, 'r') as jsonFile:\n",
    "    jsonFile.write(json.dumps(data, indent = 4))"
   ]
  },
  {
   "cell_type": "code",
   "execution_count": 12,
   "metadata": {},
   "outputs": [],
   "source": [
    "# Convert a json file content to a csv file.\n",
    "def json_2_csv(json_file, csv_file):\n",
    "     \n",
    "    # If the source json_file exist.\n",
    "    if(os.path.exists(json_file)):\n",
    "\n",
    "        # Get a file object with write permission.\n",
    "        json_file_object = open(json_file, 'r')\n",
    "\n",
    "        # Load JSON file data to a python dict object.\n",
    "        table_dict = json.load(json_file_object)\n",
    "\n",
    "        header_field_names_list = []\n",
    "\n",
    "            # Because the value is also a dictionary, so call it's keys() method to get a keys list, do not forget use list() to convert it to a pure list.\n",
    "            # This list will be used as the csv file headers field names.\n",
    "        header_field_names_list = list(row_dict.keys())\n",
    "\n",
    "        # Open csv file with write permission.\n",
    "        csv_file_object = open(csv_file, 'w')\n",
    "\n",
    "        # Create a csv.DictWriter object with the target csv file and specified header field names list..\n",
    "        csv_dict_file_writer = csv.DictWriter(csv_file_object, fieldnames=header_field_names_list)\n",
    "\n",
    "        # Write csv file header field names.\n",
    "        csv_dict_file_writer.writeheader()\n",
    "\n",
    "        # Get rows dict list\n",
    "        rows_dict_list = list(table_dict.values())\n",
    "\n",
    "        # Loop in the row list.\n",
    "        for row_dict in rows_dict_list:\n",
    "            # Write each row dict data to the csv file.\n",
    "            csv_dict_file_writer.writerow(row_dict)\n",
    "        \n",
    "        print(\"Convert \" + json_file + \" to \" + csv_file + \" success.\")\n",
    "    else:\n",
    "        print(json_file + \" do not exist. \")"
   ]
  },
  {
   "cell_type": "code",
   "execution_count": null,
   "metadata": {},
   "outputs": [],
   "source": [
    "json_file=''\n",
    "csv_file= 'test.csv'\n",
    "json_2_csv(json_file , csv_file)"
   ]
  }
 ]
}