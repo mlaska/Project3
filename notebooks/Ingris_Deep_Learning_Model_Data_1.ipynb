{
 "cells": [
  {
   "cell_type": "code",
   "execution_count": 1,
   "metadata": {},
   "outputs": [],
   "source": [
    "#Import innitial dependencies\n",
    "import warnings\n",
    "warnings.simplefilter('ignore')\n",
    "\n",
    "#%matplotlib inline\n",
    "import matplotlib.pyplot as plt\n",
    "import numpy as np\n",
    "import pandas as pd"
   ]
  },
  {
   "cell_type": "code",
   "execution_count": 2,
   "metadata": {},
   "outputs": [
    {
     "data": {
      "text/html": [
       "<div>\n",
       "<style scoped>\n",
       "    .dataframe tbody tr th:only-of-type {\n",
       "        vertical-align: middle;\n",
       "    }\n",
       "\n",
       "    .dataframe tbody tr th {\n",
       "        vertical-align: top;\n",
       "    }\n",
       "\n",
       "    .dataframe thead th {\n",
       "        text-align: right;\n",
       "    }\n",
       "</style>\n",
       "<table border=\"1\" class=\"dataframe\">\n",
       "  <thead>\n",
       "    <tr style=\"text-align: right;\">\n",
       "      <th></th>\n",
       "      <th>Servings/s</th>\n",
       "      <th>Calories/s</th>\n",
       "      <th>Fat/s</th>\n",
       "      <th>Sat_Fat/s</th>\n",
       "      <th>Trans_Fat/s</th>\n",
       "      <th>Mono_Fat/s</th>\n",
       "      <th>Poly_Fat/s</th>\n",
       "      <th>Carbs/s</th>\n",
       "      <th>Fiber/s</th>\n",
       "      <th>Sugars/s</th>\n",
       "      <th>...</th>\n",
       "      <th>Folate_eq/s</th>\n",
       "      <th>Folate_food/s</th>\n",
       "      <th>B12/s</th>\n",
       "      <th>Vit_D/s</th>\n",
       "      <th>Vit_E/s</th>\n",
       "      <th>Vit_K/s</th>\n",
       "      <th>Water/s</th>\n",
       "      <th>Healthy</th>\n",
       "      <th>HealthyLabel</th>\n",
       "      <th>Recipe</th>\n",
       "    </tr>\n",
       "  </thead>\n",
       "  <tbody>\n",
       "    <tr>\n",
       "      <td>0</td>\n",
       "      <td>1.0</td>\n",
       "      <td>100.783428</td>\n",
       "      <td>3.706567</td>\n",
       "      <td>0.478814</td>\n",
       "      <td>0.001744</td>\n",
       "      <td>1.190110</td>\n",
       "      <td>1.662028</td>\n",
       "      <td>12.935162</td>\n",
       "      <td>2.351610</td>\n",
       "      <td>0.802769</td>\n",
       "      <td>...</td>\n",
       "      <td>91.229498</td>\n",
       "      <td>91.229498</td>\n",
       "      <td>0.000022</td>\n",
       "      <td>0.004374</td>\n",
       "      <td>0.598908</td>\n",
       "      <td>6.954946</td>\n",
       "      <td>58.288488</td>\n",
       "      <td>1</td>\n",
       "      <td>healthy</td>\n",
       "      <td>5-Ingredient Quinoa Salad with Edamame and Car...</td>\n",
       "    </tr>\n",
       "    <tr>\n",
       "      <td>1</td>\n",
       "      <td>1.0</td>\n",
       "      <td>347.140000</td>\n",
       "      <td>10.435950</td>\n",
       "      <td>5.186700</td>\n",
       "      <td>0.002800</td>\n",
       "      <td>0.836965</td>\n",
       "      <td>1.371930</td>\n",
       "      <td>50.166950</td>\n",
       "      <td>5.145125</td>\n",
       "      <td>11.966875</td>\n",
       "      <td>...</td>\n",
       "      <td>210.806250</td>\n",
       "      <td>45.326250</td>\n",
       "      <td>0.947800</td>\n",
       "      <td>19.040000</td>\n",
       "      <td>0.673750</td>\n",
       "      <td>0.252000</td>\n",
       "      <td>180.252638</td>\n",
       "      <td>1</td>\n",
       "      <td>healthy</td>\n",
       "      <td>5-Minute Honey Yogurt Quinoa Parfait recipes</td>\n",
       "    </tr>\n",
       "    <tr>\n",
       "      <td>2</td>\n",
       "      <td>1.0</td>\n",
       "      <td>186.432627</td>\n",
       "      <td>7.025285</td>\n",
       "      <td>0.571038</td>\n",
       "      <td>0.047022</td>\n",
       "      <td>4.549795</td>\n",
       "      <td>1.417736</td>\n",
       "      <td>27.970713</td>\n",
       "      <td>7.459813</td>\n",
       "      <td>2.474852</td>\n",
       "      <td>...</td>\n",
       "      <td>46.731444</td>\n",
       "      <td>46.731444</td>\n",
       "      <td>0.000000</td>\n",
       "      <td>0.000000</td>\n",
       "      <td>1.843758</td>\n",
       "      <td>20.966975</td>\n",
       "      <td>124.783506</td>\n",
       "      <td>1</td>\n",
       "      <td>healthy</td>\n",
       "      <td>African-Spiced Black Barley With Okra And Toma...</td>\n",
       "    </tr>\n",
       "    <tr>\n",
       "      <td>3</td>\n",
       "      <td>1.0</td>\n",
       "      <td>137.675750</td>\n",
       "      <td>5.925203</td>\n",
       "      <td>0.385312</td>\n",
       "      <td>0.000000</td>\n",
       "      <td>3.360537</td>\n",
       "      <td>1.417505</td>\n",
       "      <td>19.815070</td>\n",
       "      <td>3.004800</td>\n",
       "      <td>13.549490</td>\n",
       "      <td>...</td>\n",
       "      <td>73.137500</td>\n",
       "      <td>73.137500</td>\n",
       "      <td>1.500000</td>\n",
       "      <td>50.400000</td>\n",
       "      <td>5.950850</td>\n",
       "      <td>145.159000</td>\n",
       "      <td>177.116418</td>\n",
       "      <td>1</td>\n",
       "      <td>healthy</td>\n",
       "      <td>Almond Butter Spinach Smoothie</td>\n",
       "    </tr>\n",
       "    <tr>\n",
       "      <td>4</td>\n",
       "      <td>1.0</td>\n",
       "      <td>198.456000</td>\n",
       "      <td>8.087615</td>\n",
       "      <td>1.228474</td>\n",
       "      <td>0.000420</td>\n",
       "      <td>5.501382</td>\n",
       "      <td>0.972848</td>\n",
       "      <td>29.506350</td>\n",
       "      <td>7.253650</td>\n",
       "      <td>4.189283</td>\n",
       "      <td>...</td>\n",
       "      <td>104.624000</td>\n",
       "      <td>104.624000</td>\n",
       "      <td>0.000000</td>\n",
       "      <td>0.000000</td>\n",
       "      <td>1.559845</td>\n",
       "      <td>32.576975</td>\n",
       "      <td>229.906301</td>\n",
       "      <td>1</td>\n",
       "      <td>healthy</td>\n",
       "      <td>Aloo Gobhi (Potato and Cauliflower) recipes</td>\n",
       "    </tr>\n",
       "  </tbody>\n",
       "</table>\n",
       "<p>5 rows × 35 columns</p>\n",
       "</div>"
      ],
      "text/plain": [
       "   Servings/s  Calories/s      Fat/s  Sat_Fat/s  Trans_Fat/s  Mono_Fat/s  \\\n",
       "0         1.0  100.783428   3.706567   0.478814     0.001744    1.190110   \n",
       "1         1.0  347.140000  10.435950   5.186700     0.002800    0.836965   \n",
       "2         1.0  186.432627   7.025285   0.571038     0.047022    4.549795   \n",
       "3         1.0  137.675750   5.925203   0.385312     0.000000    3.360537   \n",
       "4         1.0  198.456000   8.087615   1.228474     0.000420    5.501382   \n",
       "\n",
       "   Poly_Fat/s    Carbs/s   Fiber/s   Sugars/s  ...  Folate_eq/s  \\\n",
       "0    1.662028  12.935162  2.351610   0.802769  ...    91.229498   \n",
       "1    1.371930  50.166950  5.145125  11.966875  ...   210.806250   \n",
       "2    1.417736  27.970713  7.459813   2.474852  ...    46.731444   \n",
       "3    1.417505  19.815070  3.004800  13.549490  ...    73.137500   \n",
       "4    0.972848  29.506350  7.253650   4.189283  ...   104.624000   \n",
       "\n",
       "   Folate_food/s     B12/s    Vit_D/s   Vit_E/s     Vit_K/s     Water/s  \\\n",
       "0      91.229498  0.000022   0.004374  0.598908    6.954946   58.288488   \n",
       "1      45.326250  0.947800  19.040000  0.673750    0.252000  180.252638   \n",
       "2      46.731444  0.000000   0.000000  1.843758   20.966975  124.783506   \n",
       "3      73.137500  1.500000  50.400000  5.950850  145.159000  177.116418   \n",
       "4     104.624000  0.000000   0.000000  1.559845   32.576975  229.906301   \n",
       "\n",
       "   Healthy  HealthyLabel                                             Recipe  \n",
       "0        1       healthy  5-Ingredient Quinoa Salad with Edamame and Car...  \n",
       "1        1       healthy       5-Minute Honey Yogurt Quinoa Parfait recipes  \n",
       "2        1       healthy  African-Spiced Black Barley With Okra And Toma...  \n",
       "3        1       healthy                     Almond Butter Spinach Smoothie  \n",
       "4        1       healthy        Aloo Gobhi (Potato and Cauliflower) recipes  \n",
       "\n",
       "[5 rows x 35 columns]"
      ]
     },
     "execution_count": 2,
     "metadata": {},
     "output_type": "execute_result"
    }
   ],
   "source": [
    "# Read the csv file into a pandas DataFrame\n",
    "dataset = pd.read_csv('../data/ModelData_1.csv')\n",
    "dataset.head()\n",
    "#dataset.tail()"
   ]
  },
  {
   "cell_type": "code",
   "execution_count": 6,
   "metadata": {},
   "outputs": [
    {
     "name": "stdout",
     "output_type": "stream",
     "text": [
      "(1849, 33) (1849,)\n"
     ]
    }
   ],
   "source": [
    "# Assign X (data) and y (target) - And review \n",
    "X = dataset.drop([\"HealthyLabel\", \"Recipe\"], axis=1)\n",
    "y = dataset[\"HealthyLabel\"]\n",
    "print(X.shape, y.shape)"
   ]
  },
  {
   "cell_type": "code",
   "execution_count": 7,
   "metadata": {},
   "outputs": [],
   "source": [
    "# Split data into training and testing\n",
    "from sklearn.model_selection import train_test_split\n",
    "\n",
    "X_train, X_test, y_train, y_test = train_test_split(X, y, random_state=1, stratify=y)"
   ]
  },
  {
   "cell_type": "code",
   "execution_count": 8,
   "metadata": {},
   "outputs": [],
   "source": [
    "from sklearn.preprocessing import MinMaxScaler\n",
    "X_scaler = MinMaxScaler().fit(X_train)\n",
    "X_train_scaled = X_scaler.transform(X_train)\n",
    "X_test_scaled = X_scaler.transform(X_test)"
   ]
  },
  {
   "cell_type": "code",
   "execution_count": 9,
   "metadata": {},
   "outputs": [],
   "source": [
    "import tensorflow as tf\n",
    "from tensorflow.keras.models import Sequential\n",
    "from tensorflow.keras.utils import to_categorical\n",
    "from tensorflow.keras.layers import Dense\n",
    "from sklearn.preprocessing import LabelEncoder\n",
    "from tensorflow.keras.callbacks import EarlyStopping"
   ]
  },
  {
   "cell_type": "code",
   "execution_count": 10,
   "metadata": {},
   "outputs": [],
   "source": [
    "label_encoder = LabelEncoder()\n",
    "label_encoder.fit(y_train)\n",
    "encoded_y_train = label_encoder.transform(y_train)\n",
    "encoded_y_test = label_encoder.transform(y_test)\n",
    "y_train_categorical = to_categorical(encoded_y_train)\n",
    "y_test_categorical = to_categorical(encoded_y_test)"
   ]
  },
  {
   "cell_type": "code",
   "execution_count": 11,
   "metadata": {},
   "outputs": [
    {
     "data": {
      "text/plain": [
       "array([[1., 0.],\n",
       "       [0., 1.],\n",
       "       [0., 1.],\n",
       "       ...,\n",
       "       [0., 1.],\n",
       "       [0., 1.],\n",
       "       [0., 1.]], dtype=float32)"
      ]
     },
     "execution_count": 11,
     "metadata": {},
     "output_type": "execute_result"
    }
   ],
   "source": [
    "y_train_categorical"
   ]
  },
  {
   "cell_type": "code",
   "execution_count": 12,
   "metadata": {},
   "outputs": [],
   "source": [
    "modelD1 = Sequential()\n",
    "modelD1.add(Dense(units=100, activation='relu', input_dim=33))\n",
    "modelD1.add(Dense(units=100, activation='relu'))\n",
    "modelD1.add(Dense(units=100, activation='relu'))\n",
    "modelD1.add(Dense(units=100, activation='relu'))\n",
    "modelD1.add(Dense(units=2, activation='softmax'))"
   ]
  },
  {
   "cell_type": "code",
   "execution_count": 13,
   "metadata": {},
   "outputs": [],
   "source": [
    "modelD1.compile(optimizer='adam',\n",
    "              loss='categorical_crossentropy',\n",
    "              metrics=['accuracy'])"
   ]
  },
  {
   "cell_type": "code",
   "execution_count": 14,
   "metadata": {},
   "outputs": [
    {
     "name": "stdout",
     "output_type": "stream",
     "text": [
      "Model: \"sequential\"\n",
      "_________________________________________________________________\n",
      "Layer (type)                 Output Shape              Param #   \n",
      "=================================================================\n",
      "dense (Dense)                (None, 100)               3400      \n",
      "_________________________________________________________________\n",
      "dense_1 (Dense)              (None, 100)               10100     \n",
      "_________________________________________________________________\n",
      "dense_2 (Dense)              (None, 100)               10100     \n",
      "_________________________________________________________________\n",
      "dense_3 (Dense)              (None, 100)               10100     \n",
      "_________________________________________________________________\n",
      "dense_4 (Dense)              (None, 2)                 202       \n",
      "=================================================================\n",
      "Total params: 33,902\n",
      "Trainable params: 33,902\n",
      "Non-trainable params: 0\n",
      "_________________________________________________________________\n"
     ]
    }
   ],
   "source": [
    "modelD1.summary()"
   ]
  },
  {
   "cell_type": "code",
   "execution_count": 15,
   "metadata": {},
   "outputs": [
    {
     "name": "stdout",
     "output_type": "stream",
     "text": [
      "Train on 1386 samples\n",
      "Epoch 1/60\n",
      "WARNING:tensorflow:Early stopping conditioned on metric `val_loss` which is not available. Available metrics are: loss,accuracy\n",
      "1386/1386 - 1s - loss: 0.2643 - accuracy: 0.9805\n",
      "Epoch 2/60\n",
      "WARNING:tensorflow:Early stopping conditioned on metric `val_loss` which is not available. Available metrics are: loss,accuracy\n",
      "1386/1386 - 0s - loss: 2.9967e-04 - accuracy: 1.0000\n",
      "Epoch 3/60\n",
      "WARNING:tensorflow:Early stopping conditioned on metric `val_loss` which is not available. Available metrics are: loss,accuracy\n",
      "1386/1386 - 0s - loss: 6.2267e-05 - accuracy: 1.0000\n",
      "Epoch 4/60\n",
      "WARNING:tensorflow:Early stopping conditioned on metric `val_loss` which is not available. Available metrics are: loss,accuracy\n",
      "1386/1386 - 0s - loss: 4.6052e-05 - accuracy: 1.0000\n",
      "Epoch 5/60\n",
      "WARNING:tensorflow:Early stopping conditioned on metric `val_loss` which is not available. Available metrics are: loss,accuracy\n",
      "1386/1386 - 0s - loss: 3.5612e-05 - accuracy: 1.0000\n",
      "Epoch 6/60\n",
      "WARNING:tensorflow:Early stopping conditioned on metric `val_loss` which is not available. Available metrics are: loss,accuracy\n",
      "1386/1386 - 0s - loss: 2.8591e-05 - accuracy: 1.0000\n",
      "Epoch 7/60\n",
      "WARNING:tensorflow:Early stopping conditioned on metric `val_loss` which is not available. Available metrics are: loss,accuracy\n",
      "1386/1386 - 0s - loss: 2.3309e-05 - accuracy: 1.0000\n",
      "Epoch 8/60\n",
      "WARNING:tensorflow:Early stopping conditioned on metric `val_loss` which is not available. Available metrics are: loss,accuracy\n",
      "1386/1386 - 0s - loss: 1.9263e-05 - accuracy: 1.0000\n",
      "Epoch 9/60\n",
      "WARNING:tensorflow:Early stopping conditioned on metric `val_loss` which is not available. Available metrics are: loss,accuracy\n",
      "1386/1386 - 0s - loss: 1.6106e-05 - accuracy: 1.0000\n",
      "Epoch 10/60\n",
      "WARNING:tensorflow:Early stopping conditioned on metric `val_loss` which is not available. Available metrics are: loss,accuracy\n",
      "1386/1386 - 0s - loss: 1.3618e-05 - accuracy: 1.0000\n",
      "Epoch 11/60\n",
      "WARNING:tensorflow:Early stopping conditioned on metric `val_loss` which is not available. Available metrics are: loss,accuracy\n",
      "1386/1386 - 0s - loss: 1.1585e-05 - accuracy: 1.0000\n",
      "Epoch 12/60\n",
      "WARNING:tensorflow:Early stopping conditioned on metric `val_loss` which is not available. Available metrics are: loss,accuracy\n",
      "1386/1386 - 0s - loss: 9.9381e-06 - accuracy: 1.0000\n",
      "Epoch 13/60\n",
      "WARNING:tensorflow:Early stopping conditioned on metric `val_loss` which is not available. Available metrics are: loss,accuracy\n",
      "1386/1386 - 0s - loss: 8.5938e-06 - accuracy: 1.0000\n",
      "Epoch 14/60\n",
      "WARNING:tensorflow:Early stopping conditioned on metric `val_loss` which is not available. Available metrics are: loss,accuracy\n",
      "1386/1386 - 0s - loss: 7.4794e-06 - accuracy: 1.0000\n",
      "Epoch 15/60\n",
      "WARNING:tensorflow:Early stopping conditioned on metric `val_loss` which is not available. Available metrics are: loss,accuracy\n",
      "1386/1386 - 0s - loss: 6.5553e-06 - accuracy: 1.0000\n",
      "Epoch 16/60\n",
      "WARNING:tensorflow:Early stopping conditioned on metric `val_loss` which is not available. Available metrics are: loss,accuracy\n",
      "1386/1386 - 0s - loss: 5.7709e-06 - accuracy: 1.0000\n",
      "Epoch 17/60\n",
      "WARNING:tensorflow:Early stopping conditioned on metric `val_loss` which is not available. Available metrics are: loss,accuracy\n",
      "1386/1386 - 0s - loss: 5.1050e-06 - accuracy: 1.0000\n",
      "Epoch 18/60\n",
      "WARNING:tensorflow:Early stopping conditioned on metric `val_loss` which is not available. Available metrics are: loss,accuracy\n",
      "1386/1386 - 0s - loss: 4.5398e-06 - accuracy: 1.0000\n",
      "Epoch 19/60\n",
      "WARNING:tensorflow:Early stopping conditioned on metric `val_loss` which is not available. Available metrics are: loss,accuracy\n",
      "1386/1386 - 0s - loss: 4.0443e-06 - accuracy: 1.0000\n",
      "Epoch 20/60\n",
      "WARNING:tensorflow:Early stopping conditioned on metric `val_loss` which is not available. Available metrics are: loss,accuracy\n",
      "1386/1386 - 0s - loss: 3.6180e-06 - accuracy: 1.0000\n",
      "Epoch 21/60\n",
      "WARNING:tensorflow:Early stopping conditioned on metric `val_loss` which is not available. Available metrics are: loss,accuracy\n",
      "1386/1386 - 0s - loss: 3.2500e-06 - accuracy: 1.0000\n",
      "Epoch 22/60\n",
      "WARNING:tensorflow:Early stopping conditioned on metric `val_loss` which is not available. Available metrics are: loss,accuracy\n",
      "1386/1386 - 0s - loss: 2.9249e-06 - accuracy: 1.0000\n",
      "Epoch 23/60\n",
      "WARNING:tensorflow:Early stopping conditioned on metric `val_loss` which is not available. Available metrics are: loss,accuracy\n",
      "1386/1386 - 0s - loss: 2.6400e-06 - accuracy: 1.0000\n",
      "Epoch 24/60\n",
      "WARNING:tensorflow:Early stopping conditioned on metric `val_loss` which is not available. Available metrics are: loss,accuracy\n",
      "1386/1386 - 0s - loss: 2.3861e-06 - accuracy: 1.0000\n",
      "Epoch 25/60\n",
      "WARNING:tensorflow:Early stopping conditioned on metric `val_loss` which is not available. Available metrics are: loss,accuracy\n",
      "1386/1386 - 0s - loss: 2.1673e-06 - accuracy: 1.0000\n",
      "Epoch 26/60\n",
      "WARNING:tensorflow:Early stopping conditioned on metric `val_loss` which is not available. Available metrics are: loss,accuracy\n",
      "1386/1386 - 0s - loss: 1.9693e-06 - accuracy: 1.0000\n",
      "Epoch 27/60\n",
      "WARNING:tensorflow:Early stopping conditioned on metric `val_loss` which is not available. Available metrics are: loss,accuracy\n",
      "1386/1386 - 0s - loss: 1.7927e-06 - accuracy: 1.0000\n",
      "Epoch 28/60\n",
      "WARNING:tensorflow:Early stopping conditioned on metric `val_loss` which is not available. Available metrics are: loss,accuracy\n",
      "1386/1386 - 0s - loss: 1.6350e-06 - accuracy: 1.0000\n",
      "Epoch 29/60\n",
      "WARNING:tensorflow:Early stopping conditioned on metric `val_loss` which is not available. Available metrics are: loss,accuracy\n",
      "1386/1386 - 0s - loss: 1.4955e-06 - accuracy: 1.0000\n",
      "Epoch 30/60\n",
      "WARNING:tensorflow:Early stopping conditioned on metric `val_loss` which is not available. Available metrics are: loss,accuracy\n",
      "1386/1386 - 0s - loss: 1.3691e-06 - accuracy: 1.0000\n",
      "Epoch 31/60\n",
      "WARNING:tensorflow:Early stopping conditioned on metric `val_loss` which is not available. Available metrics are: loss,accuracy\n",
      "1386/1386 - 0s - loss: 1.2564e-06 - accuracy: 1.0000\n",
      "Epoch 32/60\n",
      "WARNING:tensorflow:Early stopping conditioned on metric `val_loss` which is not available. Available metrics are: loss,accuracy\n",
      "1386/1386 - 0s - loss: 1.1562e-06 - accuracy: 1.0000\n",
      "Epoch 33/60\n",
      "WARNING:tensorflow:Early stopping conditioned on metric `val_loss` which is not available. Available metrics are: loss,accuracy\n",
      "1386/1386 - 0s - loss: 1.0624e-06 - accuracy: 1.0000\n",
      "Epoch 34/60\n",
      "WARNING:tensorflow:Early stopping conditioned on metric `val_loss` which is not available. Available metrics are: loss,accuracy\n",
      "1386/1386 - 0s - loss: 9.8034e-07 - accuracy: 1.0000\n",
      "Epoch 35/60\n",
      "WARNING:tensorflow:Early stopping conditioned on metric `val_loss` which is not available. Available metrics are: loss,accuracy\n",
      "1386/1386 - 0s - loss: 9.0542e-07 - accuracy: 1.0000\n",
      "Epoch 36/60\n",
      "WARNING:tensorflow:Early stopping conditioned on metric `val_loss` which is not available. Available metrics are: loss,accuracy\n",
      "1386/1386 - 0s - loss: 8.3842e-07 - accuracy: 1.0000\n",
      "Epoch 37/60\n",
      "WARNING:tensorflow:Early stopping conditioned on metric `val_loss` which is not available. Available metrics are: loss,accuracy\n",
      "1386/1386 - 0s - loss: 7.7555e-07 - accuracy: 1.0000\n",
      "Epoch 38/60\n",
      "WARNING:tensorflow:Early stopping conditioned on metric `val_loss` which is not available. Available metrics are: loss,accuracy\n",
      "1386/1386 - 0s - loss: 7.1827e-07 - accuracy: 1.0000\n",
      "Epoch 39/60\n",
      "WARNING:tensorflow:Early stopping conditioned on metric `val_loss` which is not available. Available metrics are: loss,accuracy\n",
      "1386/1386 - 0s - loss: 6.6898e-07 - accuracy: 1.0000\n",
      "Epoch 40/60\n",
      "WARNING:tensorflow:Early stopping conditioned on metric `val_loss` which is not available. Available metrics are: loss,accuracy\n",
      "1386/1386 - 0s - loss: 6.2073e-07 - accuracy: 1.0000\n",
      "Epoch 41/60\n",
      "WARNING:tensorflow:Early stopping conditioned on metric `val_loss` which is not available. Available metrics are: loss,accuracy\n",
      "1386/1386 - 0s - loss: 5.7773e-07 - accuracy: 1.0000\n",
      "Epoch 42/60\n",
      "WARNING:tensorflow:Early stopping conditioned on metric `val_loss` which is not available. Available metrics are: loss,accuracy\n",
      "1386/1386 - 0s - loss: 5.3945e-07 - accuracy: 1.0000\n",
      "Epoch 43/60\n",
      "WARNING:tensorflow:Early stopping conditioned on metric `val_loss` which is not available. Available metrics are: loss,accuracy\n"
     ]
    },
    {
     "name": "stdout",
     "output_type": "stream",
     "text": [
      "1386/1386 - 0s - loss: 5.0565e-07 - accuracy: 1.0000\n",
      "Epoch 44/60\n",
      "WARNING:tensorflow:Early stopping conditioned on metric `val_loss` which is not available. Available metrics are: loss,accuracy\n",
      "1386/1386 - 0s - loss: 4.7271e-07 - accuracy: 1.0000\n",
      "Epoch 45/60\n",
      "WARNING:tensorflow:Early stopping conditioned on metric `val_loss` which is not available. Available metrics are: loss,accuracy\n",
      "1386/1386 - 0s - loss: 4.4200e-07 - accuracy: 1.0000\n",
      "Epoch 46/60\n",
      "WARNING:tensorflow:Early stopping conditioned on metric `val_loss` which is not available. Available metrics are: loss,accuracy\n",
      "1386/1386 - 0s - loss: 4.1517e-07 - accuracy: 1.0000\n",
      "Epoch 47/60\n",
      "WARNING:tensorflow:Early stopping conditioned on metric `val_loss` which is not available. Available metrics are: loss,accuracy\n",
      "1386/1386 - 0s - loss: 3.8868e-07 - accuracy: 1.0000\n",
      "Epoch 48/60\n",
      "WARNING:tensorflow:Early stopping conditioned on metric `val_loss` which is not available. Available metrics are: loss,accuracy\n",
      "1386/1386 - 0s - loss: 3.6649e-07 - accuracy: 1.0000\n",
      "Epoch 49/60\n",
      "WARNING:tensorflow:Early stopping conditioned on metric `val_loss` which is not available. Available metrics are: loss,accuracy\n",
      "1386/1386 - 0s - loss: 3.4421e-07 - accuracy: 1.0000\n",
      "Epoch 50/60\n",
      "WARNING:tensorflow:Early stopping conditioned on metric `val_loss` which is not available. Available metrics are: loss,accuracy\n",
      "1386/1386 - 0s - loss: 3.2374e-07 - accuracy: 1.0000\n",
      "Epoch 51/60\n",
      "WARNING:tensorflow:Early stopping conditioned on metric `val_loss` which is not available. Available metrics are: loss,accuracy\n",
      "1386/1386 - 0s - loss: 3.0714e-07 - accuracy: 1.0000\n",
      "Epoch 52/60\n",
      "WARNING:tensorflow:Early stopping conditioned on metric `val_loss` which is not available. Available metrics are: loss,accuracy\n",
      "1386/1386 - 0s - loss: 2.9037e-07 - accuracy: 1.0000\n",
      "Epoch 53/60\n",
      "WARNING:tensorflow:Early stopping conditioned on metric `val_loss` which is not available. Available metrics are: loss,accuracy\n",
      "1386/1386 - 0s - loss: 2.7325e-07 - accuracy: 1.0000\n",
      "Epoch 54/60\n",
      "WARNING:tensorflow:Early stopping conditioned on metric `val_loss` which is not available. Available metrics are: loss,accuracy\n",
      "1386/1386 - 0s - loss: 2.5665e-07 - accuracy: 1.0000\n",
      "Epoch 55/60\n",
      "WARNING:tensorflow:Early stopping conditioned on metric `val_loss` which is not available. Available metrics are: loss,accuracy\n",
      "1386/1386 - 0s - loss: 2.4237e-07 - accuracy: 1.0000\n",
      "Epoch 56/60\n",
      "WARNING:tensorflow:Early stopping conditioned on metric `val_loss` which is not available. Available metrics are: loss,accuracy\n",
      "1386/1386 - 0s - loss: 2.2861e-07 - accuracy: 1.0000\n",
      "Epoch 57/60\n",
      "WARNING:tensorflow:Early stopping conditioned on metric `val_loss` which is not available. Available metrics are: loss,accuracy\n",
      "1386/1386 - 0s - loss: 2.1803e-07 - accuracy: 1.0000\n",
      "Epoch 58/60\n",
      "WARNING:tensorflow:Early stopping conditioned on metric `val_loss` which is not available. Available metrics are: loss,accuracy\n",
      "1386/1386 - 0s - loss: 2.0771e-07 - accuracy: 1.0000\n",
      "Epoch 59/60\n",
      "WARNING:tensorflow:Early stopping conditioned on metric `val_loss` which is not available. Available metrics are: loss,accuracy\n",
      "1386/1386 - 0s - loss: 1.9825e-07 - accuracy: 1.0000\n",
      "Epoch 60/60\n",
      "WARNING:tensorflow:Early stopping conditioned on metric `val_loss` which is not available. Available metrics are: loss,accuracy\n",
      "1386/1386 - 0s - loss: 1.8931e-07 - accuracy: 1.0000\n"
     ]
    },
    {
     "data": {
      "text/plain": [
       "<tensorflow.python.keras.callbacks.History at 0x13d2da8d0>"
      ]
     },
     "execution_count": 15,
     "metadata": {},
     "output_type": "execute_result"
    }
   ],
   "source": [
    "callbacks = [EarlyStopping(monitor='val_loss', patience=2)]\n",
    "modelD1.fit(\n",
    "    X_train_scaled,\n",
    "    y_train_categorical,\n",
    "    callbacks=callbacks,\n",
    "    epochs=60,\n",
    "    shuffle=True,\n",
    "    verbose=2\n",
    ")"
   ]
  },
  {
   "cell_type": "code",
   "execution_count": 16,
   "metadata": {},
   "outputs": [
    {
     "name": "stdout",
     "output_type": "stream",
     "text": [
      "463/463 - 0s - loss: 2.1911e-07 - accuracy: 1.0000\n",
      "Normal Neural Network - Loss: 2.1910777659902711e-07, Accuracy: 1.0\n"
     ]
    }
   ],
   "source": [
    "model_loss, model_accuracy = modelD1.evaluate(\n",
    "    X_test_scaled, y_test_categorical, verbose=2)\n",
    "print(\n",
    "    f\"Normal Neural Network - Loss: {model_loss}, Accuracy: {model_accuracy}\")"
   ]
  },
  {
   "cell_type": "code",
   "execution_count": 17,
   "metadata": {},
   "outputs": [],
   "source": [
    "encoded_predictions = modelD1.predict_classes(X_test_scaled[:5])\n",
    "prediction_labels = label_encoder.inverse_transform(encoded_predictions)"
   ]
  },
  {
   "cell_type": "code",
   "execution_count": 18,
   "metadata": {},
   "outputs": [
    {
     "name": "stdout",
     "output_type": "stream",
     "text": [
      "Predicted classes: ['unhealthy' 'healthy' 'healthy' 'unhealthy' 'healthy']\n",
      "Actual Labels: ['unhealthy', 'healthy', 'healthy', 'unhealthy', 'healthy']\n"
     ]
    }
   ],
   "source": [
    "print(f\"Predicted classes: {prediction_labels}\")\n",
    "print(f\"Actual Labels: {list(y_test[:5])}\")"
   ]
  },
  {
   "cell_type": "code",
   "execution_count": 19,
   "metadata": {},
   "outputs": [
    {
     "name": "stdout",
     "output_type": "stream",
     "text": [
      "Saved modelD1 to disk\n"
     ]
    }
   ],
   "source": [
    "# serialize model to JSON\n",
    "modelD1_json = modelD1.to_json()\n",
    "with open(\"modelD1.json\", \"w\") as json_file:\n",
    "    json_file.write(modelD1_json)\n",
    "# serialize weights to HDF5\n",
    "modelD1.save_weights(\"modelD1.h5\")\n",
    "print(\"Saved modelD1 to disk\")"
   ]
  },
  {
   "cell_type": "code",
   "execution_count": 20,
   "metadata": {},
   "outputs": [
    {
     "name": "stdout",
     "output_type": "stream",
     "text": [
      "Loaded modelD1 from disk\n"
     ]
    }
   ],
   "source": [
    "from tensorflow.keras.models import model_from_json\n",
    "# load json and create model\n",
    "json_file = open('modelD1.json', 'r')\n",
    "loaded_model_json = json_file.read()\n",
    "json_file.close()\n",
    "loaded_model = model_from_json(loaded_model_json)\n",
    "# load weights into new model\n",
    "loaded_model.load_weights(\"modelD1.h5\")\n",
    "print(\"Loaded modelD1 from disk\")"
   ]
  },
  {
   "cell_type": "code",
   "execution_count": null,
   "metadata": {},
   "outputs": [],
   "source": []
  }
 ],
 "metadata": {
  "kernelspec": {
   "display_name": "Python [conda env:PythonWebMongo] *",
   "language": "python",
   "name": "conda-env-PythonWebMongo-py"
  },
  "language_info": {
   "codemirror_mode": {
    "name": "ipython",
    "version": 3
   },
   "file_extension": ".py",
   "mimetype": "text/x-python",
   "name": "python",
   "nbconvert_exporter": "python",
   "pygments_lexer": "ipython3",
   "version": "3.6.9"
  }
 },
 "nbformat": 4,
 "nbformat_minor": 2
}
