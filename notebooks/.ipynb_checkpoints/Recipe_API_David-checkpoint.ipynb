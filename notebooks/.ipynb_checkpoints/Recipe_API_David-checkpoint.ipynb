{
 "cells": [
  {
   "cell_type": "code",
   "execution_count": 20,
   "metadata": {},
   "outputs": [
    {
     "name": "stdout",
     "output_type": "stream",
     "text": [
      "Cauliflower Popcorn\n"
     ]
    }
   ],
   "source": [
    "# def RecipeCall(SearchCategory,SearchWord,SearchText):\n",
    "    # Dependencies and Setup\n",
    "import matplotlib.pyplot as plt\n",
    "import pandas as pd\n",
    "import numpy as np\n",
    "import requests\n",
    "import json\n",
    "import glob\n",
    "import time\n",
    "import os\n",
    "import re\n",
    "import string\n",
    "\n",
    "#API key to be hard coded for now\n",
    "#need to put together a config file call to pull from the api\n",
    "API = '55f33eea55bd39b5ef63008d2d327ae9'\n",
    "ApiId = '4c80371b' #recipe search\n",
    "\n",
    "SearchText = ['kale','spinach','broccoli', 'potatoes', 'quinoa', 'carrots', 'asparagus', 'lentils', 'barley', 'cauliflower']\n",
    "\n",
    "SearchText2 = ['fried', 'deep%20fried', 'battered','pizza', 'burger', 'gravy', 'bacon', 'cheese', 'lasagna', 'casserole']\n",
    "\n",
    "# SearchCategory2 = 'diet'\n",
    "# SearchWord2 = 'balanced'\n",
    "# SearchCategory3 = 'health'\n",
    "# SearchWord3 = 'vegetarian'\n",
    "\n",
    "url = f'https://api.edamam.com/search?q={SearchText2[0]}&app_id={ApiId}&app_key={API}&from=0&to=100'\n",
    "\n",
    "#access the API and pull data from the URL\n",
    "response = requests.get(url).json()\n",
    "\n",
    "print(response['hits'][0]['recipe']['label'])"
   ]
  },
  {
   "cell_type": "code",
   "execution_count": 21,
   "metadata": {},
   "outputs": [],
   "source": [
    "#Set the valid characters that can be used to name the file\n",
    "WhereToStore = 'recipeHealthy2'\n",
    "\n",
    "#Save recipes as individual .json files\n",
    "valid_chars = \"%s%s\" % (string.ascii_letters, string.digits)\n",
    "for recipe in range(len(response['hits'])):\n",
    "    LongName = response['hits'][recipe]['recipe']['label']\n",
    "    ShortName = ''.join(c for c in LongName if c in valid_chars)\n",
    "    file_path = f'../data/{WhereToStore}/{ShortName}.json'\n",
    "    directory = os.path.dirname(file_path)\n",
    "    if not os.path.exists(directory):\n",
    "        os.makedirs(directory)\n",
    "    with open(file_path, 'w') as outfile:\n",
    "        json.dump(response['hits'][recipe], outfile, indent= 2)  \n"
   ]
  },
  {
   "cell_type": "code",
   "execution_count": 24,
   "metadata": {},
   "outputs": [],
   "source": [
    "import matplotlib.pyplot as plt\n",
    "import pandas as pd\n",
    "import numpy as np\n",
    "import requests\n",
    "import json\n",
    "import glob\n",
    "import time\n",
    "import os\n",
    "import re\n",
    "import string\n",
    "#Merge all recipes into one json ****Do this once, after you have all the individual json recipes you want from the code above***\n",
    "FinalFilePath = '../data/HealthyAll2.json' #name the folder where the final \n",
    "result = []\n",
    "WhereToMerge = 'recipeHealthy2'\n",
    "for f in glob.glob(f\"../data/{WhereToMerge}/*.json\"):\n",
    "    with open(f, \"rb\") as infile:\n",
    "        result.append(json.load(infile))\n",
    "with open(FinalFilePath, \"w\") as outfile:\n",
    "    json.dump(result, outfile, indent= 2) "
   ]
  },
  {
   "cell_type": "code",
   "execution_count": null,
   "metadata": {},
   "outputs": [],
   "source": []
  }
 ],
 "metadata": {
  "kernelspec": {
   "display_name": "Python 3",
   "language": "python",
   "name": "python3"
  },
  "language_info": {
   "codemirror_mode": {
    "name": "ipython",
    "version": 3
   },
   "file_extension": ".py",
   "mimetype": "text/x-python",
   "name": "python",
   "nbconvert_exporter": "python",
   "pygments_lexer": "ipython3",
   "version": "3.6.9"
  }
 },
 "nbformat": 4,
 "nbformat_minor": 2
}
