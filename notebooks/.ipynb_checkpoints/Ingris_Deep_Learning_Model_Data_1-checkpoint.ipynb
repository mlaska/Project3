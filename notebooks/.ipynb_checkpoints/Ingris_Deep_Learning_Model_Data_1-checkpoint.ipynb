{
 "cells": [
  {
   "cell_type": "code",
   "execution_count": 1,
   "metadata": {},
   "outputs": [],
   "source": [
    "#Import innitial dependencies\n",
    "import warnings\n",
    "warnings.simplefilter('ignore')\n",
    "\n",
    "#%matplotlib inline\n",
    "import matplotlib.pyplot as plt\n",
    "import numpy as np\n",
    "import pandas as pd"
   ]
  },
  {
   "cell_type": "code",
   "execution_count": 2,
   "metadata": {},
   "outputs": [
    {
     "data": {
      "text/html": [
       "<div>\n",
       "<style scoped>\n",
       "    .dataframe tbody tr th:only-of-type {\n",
       "        vertical-align: middle;\n",
       "    }\n",
       "\n",
       "    .dataframe tbody tr th {\n",
       "        vertical-align: top;\n",
       "    }\n",
       "\n",
       "    .dataframe thead th {\n",
       "        text-align: right;\n",
       "    }\n",
       "</style>\n",
       "<table border=\"1\" class=\"dataframe\">\n",
       "  <thead>\n",
       "    <tr style=\"text-align: right;\">\n",
       "      <th></th>\n",
       "      <th>Servings/s</th>\n",
       "      <th>Calories/s</th>\n",
       "      <th>Fat/s</th>\n",
       "      <th>Sat_Fat/s</th>\n",
       "      <th>Trans_Fat/s</th>\n",
       "      <th>Mono_Fat/s</th>\n",
       "      <th>Poly_Fat/s</th>\n",
       "      <th>Carbs/s</th>\n",
       "      <th>Fiber/s</th>\n",
       "      <th>Sugars/s</th>\n",
       "      <th>...</th>\n",
       "      <th>Folate_eq/s</th>\n",
       "      <th>Folate_food/s</th>\n",
       "      <th>B12/s</th>\n",
       "      <th>Vit_D/s</th>\n",
       "      <th>Vit_E/s</th>\n",
       "      <th>Vit_K/s</th>\n",
       "      <th>Water/s</th>\n",
       "      <th>Healthy</th>\n",
       "      <th>HealthyLabel</th>\n",
       "      <th>Recipe</th>\n",
       "    </tr>\n",
       "  </thead>\n",
       "  <tbody>\n",
       "    <tr>\n",
       "      <td>0</td>\n",
       "      <td>1.0</td>\n",
       "      <td>100.783428</td>\n",
       "      <td>3.706567</td>\n",
       "      <td>0.478814</td>\n",
       "      <td>0.001744</td>\n",
       "      <td>1.190110</td>\n",
       "      <td>1.662028</td>\n",
       "      <td>12.935162</td>\n",
       "      <td>2.351610</td>\n",
       "      <td>0.802769</td>\n",
       "      <td>...</td>\n",
       "      <td>91.229498</td>\n",
       "      <td>91.229498</td>\n",
       "      <td>0.000022</td>\n",
       "      <td>0.004374</td>\n",
       "      <td>0.598908</td>\n",
       "      <td>6.954946</td>\n",
       "      <td>58.288488</td>\n",
       "      <td>1</td>\n",
       "      <td>healthy</td>\n",
       "      <td>5-Ingredient Quinoa Salad with Edamame and Car...</td>\n",
       "    </tr>\n",
       "    <tr>\n",
       "      <td>1</td>\n",
       "      <td>1.0</td>\n",
       "      <td>347.140000</td>\n",
       "      <td>10.435950</td>\n",
       "      <td>5.186700</td>\n",
       "      <td>0.002800</td>\n",
       "      <td>0.836965</td>\n",
       "      <td>1.371930</td>\n",
       "      <td>50.166950</td>\n",
       "      <td>5.145125</td>\n",
       "      <td>11.966875</td>\n",
       "      <td>...</td>\n",
       "      <td>210.806250</td>\n",
       "      <td>45.326250</td>\n",
       "      <td>0.947800</td>\n",
       "      <td>19.040000</td>\n",
       "      <td>0.673750</td>\n",
       "      <td>0.252000</td>\n",
       "      <td>180.252638</td>\n",
       "      <td>1</td>\n",
       "      <td>healthy</td>\n",
       "      <td>5-Minute Honey Yogurt Quinoa Parfait recipes</td>\n",
       "    </tr>\n",
       "    <tr>\n",
       "      <td>2</td>\n",
       "      <td>1.0</td>\n",
       "      <td>186.432627</td>\n",
       "      <td>7.025285</td>\n",
       "      <td>0.571038</td>\n",
       "      <td>0.047022</td>\n",
       "      <td>4.549795</td>\n",
       "      <td>1.417736</td>\n",
       "      <td>27.970713</td>\n",
       "      <td>7.459813</td>\n",
       "      <td>2.474852</td>\n",
       "      <td>...</td>\n",
       "      <td>46.731444</td>\n",
       "      <td>46.731444</td>\n",
       "      <td>0.000000</td>\n",
       "      <td>0.000000</td>\n",
       "      <td>1.843758</td>\n",
       "      <td>20.966975</td>\n",
       "      <td>124.783506</td>\n",
       "      <td>1</td>\n",
       "      <td>healthy</td>\n",
       "      <td>African-Spiced Black Barley With Okra And Toma...</td>\n",
       "    </tr>\n",
       "    <tr>\n",
       "      <td>3</td>\n",
       "      <td>1.0</td>\n",
       "      <td>137.675750</td>\n",
       "      <td>5.925203</td>\n",
       "      <td>0.385312</td>\n",
       "      <td>0.000000</td>\n",
       "      <td>3.360537</td>\n",
       "      <td>1.417505</td>\n",
       "      <td>19.815070</td>\n",
       "      <td>3.004800</td>\n",
       "      <td>13.549490</td>\n",
       "      <td>...</td>\n",
       "      <td>73.137500</td>\n",
       "      <td>73.137500</td>\n",
       "      <td>1.500000</td>\n",
       "      <td>50.400000</td>\n",
       "      <td>5.950850</td>\n",
       "      <td>145.159000</td>\n",
       "      <td>177.116418</td>\n",
       "      <td>1</td>\n",
       "      <td>healthy</td>\n",
       "      <td>Almond Butter Spinach Smoothie</td>\n",
       "    </tr>\n",
       "    <tr>\n",
       "      <td>4</td>\n",
       "      <td>1.0</td>\n",
       "      <td>198.456000</td>\n",
       "      <td>8.087615</td>\n",
       "      <td>1.228474</td>\n",
       "      <td>0.000420</td>\n",
       "      <td>5.501382</td>\n",
       "      <td>0.972848</td>\n",
       "      <td>29.506350</td>\n",
       "      <td>7.253650</td>\n",
       "      <td>4.189283</td>\n",
       "      <td>...</td>\n",
       "      <td>104.624000</td>\n",
       "      <td>104.624000</td>\n",
       "      <td>0.000000</td>\n",
       "      <td>0.000000</td>\n",
       "      <td>1.559845</td>\n",
       "      <td>32.576975</td>\n",
       "      <td>229.906301</td>\n",
       "      <td>1</td>\n",
       "      <td>healthy</td>\n",
       "      <td>Aloo Gobhi (Potato and Cauliflower) recipes</td>\n",
       "    </tr>\n",
       "  </tbody>\n",
       "</table>\n",
       "<p>5 rows × 35 columns</p>\n",
       "</div>"
      ],
      "text/plain": [
       "   Servings/s  Calories/s      Fat/s  Sat_Fat/s  Trans_Fat/s  Mono_Fat/s  \\\n",
       "0         1.0  100.783428   3.706567   0.478814     0.001744    1.190110   \n",
       "1         1.0  347.140000  10.435950   5.186700     0.002800    0.836965   \n",
       "2         1.0  186.432627   7.025285   0.571038     0.047022    4.549795   \n",
       "3         1.0  137.675750   5.925203   0.385312     0.000000    3.360537   \n",
       "4         1.0  198.456000   8.087615   1.228474     0.000420    5.501382   \n",
       "\n",
       "   Poly_Fat/s    Carbs/s   Fiber/s   Sugars/s  ...  Folate_eq/s  \\\n",
       "0    1.662028  12.935162  2.351610   0.802769  ...    91.229498   \n",
       "1    1.371930  50.166950  5.145125  11.966875  ...   210.806250   \n",
       "2    1.417736  27.970713  7.459813   2.474852  ...    46.731444   \n",
       "3    1.417505  19.815070  3.004800  13.549490  ...    73.137500   \n",
       "4    0.972848  29.506350  7.253650   4.189283  ...   104.624000   \n",
       "\n",
       "   Folate_food/s     B12/s    Vit_D/s   Vit_E/s     Vit_K/s     Water/s  \\\n",
       "0      91.229498  0.000022   0.004374  0.598908    6.954946   58.288488   \n",
       "1      45.326250  0.947800  19.040000  0.673750    0.252000  180.252638   \n",
       "2      46.731444  0.000000   0.000000  1.843758   20.966975  124.783506   \n",
       "3      73.137500  1.500000  50.400000  5.950850  145.159000  177.116418   \n",
       "4     104.624000  0.000000   0.000000  1.559845   32.576975  229.906301   \n",
       "\n",
       "   Healthy  HealthyLabel                                             Recipe  \n",
       "0        1       healthy  5-Ingredient Quinoa Salad with Edamame and Car...  \n",
       "1        1       healthy       5-Minute Honey Yogurt Quinoa Parfait recipes  \n",
       "2        1       healthy  African-Spiced Black Barley With Okra And Toma...  \n",
       "3        1       healthy                     Almond Butter Spinach Smoothie  \n",
       "4        1       healthy        Aloo Gobhi (Potato and Cauliflower) recipes  \n",
       "\n",
       "[5 rows x 35 columns]"
      ]
     },
     "execution_count": 2,
     "metadata": {},
     "output_type": "execute_result"
    }
   ],
   "source": [
    "# Read the csv file into a pandas DataFrame\n",
    "dataset = pd.read_csv('../data/ModelData_1.csv')\n",
    "dataset.head()\n",
    "#dataset.tail()"
   ]
  },
  {
   "cell_type": "code",
   "execution_count": 3,
   "metadata": {},
   "outputs": [
    {
     "name": "stdout",
     "output_type": "stream",
     "text": [
      "(1849, 34) (1849,)\n"
     ]
    }
   ],
   "source": [
    "# Assign X (data) and y (target) - And review \n",
    "X = dataset.drop([\"HealthyLabel\", \"Recipe\"], axis=1)\n",
    "y = dataset[\"HealthyLabel\"]\n",
    "print(X.shape, y.shape)"
   ]
  },
  {
   "cell_type": "code",
   "execution_count": 4,
   "metadata": {},
   "outputs": [],
   "source": [
    "# Split data into training and testing\n",
    "from sklearn.model_selection import train_test_split\n",
    "\n",
    "X_train, X_test, y_train, y_test = train_test_split(X, y, random_state=1, stratify=y)"
   ]
  },
  {
   "cell_type": "code",
   "execution_count": 5,
   "metadata": {},
   "outputs": [
    {
     "ename": "ValueError",
     "evalue": "could not convert string to float: 'Cheesy Mashed Potatoes'",
     "output_type": "error",
     "traceback": [
      "\u001b[0;31m---------------------------------------------------------------------------\u001b[0m",
      "\u001b[0;31mValueError\u001b[0m                                Traceback (most recent call last)",
      "\u001b[0;32m<ipython-input-5-4e3dd7040fb0>\u001b[0m in \u001b[0;36m<module>\u001b[0;34m\u001b[0m\n\u001b[1;32m      1\u001b[0m \u001b[0;32mfrom\u001b[0m \u001b[0msklearn\u001b[0m\u001b[0;34m.\u001b[0m\u001b[0mpreprocessing\u001b[0m \u001b[0;32mimport\u001b[0m \u001b[0mMinMaxScaler\u001b[0m\u001b[0;34m\u001b[0m\u001b[0;34m\u001b[0m\u001b[0m\n\u001b[0;32m----> 2\u001b[0;31m \u001b[0mX_scaler\u001b[0m \u001b[0;34m=\u001b[0m \u001b[0mMinMaxScaler\u001b[0m\u001b[0;34m(\u001b[0m\u001b[0;34m)\u001b[0m\u001b[0;34m.\u001b[0m\u001b[0mfit\u001b[0m\u001b[0;34m(\u001b[0m\u001b[0mX_train\u001b[0m\u001b[0;34m)\u001b[0m\u001b[0;34m\u001b[0m\u001b[0;34m\u001b[0m\u001b[0m\n\u001b[0m\u001b[1;32m      3\u001b[0m \u001b[0mX_train_scaled\u001b[0m \u001b[0;34m=\u001b[0m \u001b[0mX_scaler\u001b[0m\u001b[0;34m.\u001b[0m\u001b[0mtransform\u001b[0m\u001b[0;34m(\u001b[0m\u001b[0mX_train\u001b[0m\u001b[0;34m)\u001b[0m\u001b[0;34m\u001b[0m\u001b[0;34m\u001b[0m\u001b[0m\n\u001b[1;32m      4\u001b[0m \u001b[0mX_test_scaled\u001b[0m \u001b[0;34m=\u001b[0m \u001b[0mX_scaler\u001b[0m\u001b[0;34m.\u001b[0m\u001b[0mtransform\u001b[0m\u001b[0;34m(\u001b[0m\u001b[0mX_test\u001b[0m\u001b[0;34m)\u001b[0m\u001b[0;34m\u001b[0m\u001b[0;34m\u001b[0m\u001b[0m\n",
      "\u001b[0;32m//anaconda3/envs/PythonWebMongo/lib/python3.6/site-packages/sklearn/preprocessing/data.py\u001b[0m in \u001b[0;36mfit\u001b[0;34m(self, X, y)\u001b[0m\n\u001b[1;32m    323\u001b[0m         \u001b[0;31m# Reset internal state before fitting\u001b[0m\u001b[0;34m\u001b[0m\u001b[0;34m\u001b[0m\u001b[0;34m\u001b[0m\u001b[0m\n\u001b[1;32m    324\u001b[0m         \u001b[0mself\u001b[0m\u001b[0;34m.\u001b[0m\u001b[0m_reset\u001b[0m\u001b[0;34m(\u001b[0m\u001b[0;34m)\u001b[0m\u001b[0;34m\u001b[0m\u001b[0;34m\u001b[0m\u001b[0m\n\u001b[0;32m--> 325\u001b[0;31m         \u001b[0;32mreturn\u001b[0m \u001b[0mself\u001b[0m\u001b[0;34m.\u001b[0m\u001b[0mpartial_fit\u001b[0m\u001b[0;34m(\u001b[0m\u001b[0mX\u001b[0m\u001b[0;34m,\u001b[0m \u001b[0my\u001b[0m\u001b[0;34m)\u001b[0m\u001b[0;34m\u001b[0m\u001b[0;34m\u001b[0m\u001b[0m\n\u001b[0m\u001b[1;32m    326\u001b[0m \u001b[0;34m\u001b[0m\u001b[0m\n\u001b[1;32m    327\u001b[0m     \u001b[0;32mdef\u001b[0m \u001b[0mpartial_fit\u001b[0m\u001b[0;34m(\u001b[0m\u001b[0mself\u001b[0m\u001b[0;34m,\u001b[0m \u001b[0mX\u001b[0m\u001b[0;34m,\u001b[0m \u001b[0my\u001b[0m\u001b[0;34m=\u001b[0m\u001b[0;32mNone\u001b[0m\u001b[0;34m)\u001b[0m\u001b[0;34m:\u001b[0m\u001b[0;34m\u001b[0m\u001b[0;34m\u001b[0m\u001b[0m\n",
      "\u001b[0;32m//anaconda3/envs/PythonWebMongo/lib/python3.6/site-packages/sklearn/preprocessing/data.py\u001b[0m in \u001b[0;36mpartial_fit\u001b[0;34m(self, X, y)\u001b[0m\n\u001b[1;32m    351\u001b[0m         X = check_array(X, copy=self.copy,\n\u001b[1;32m    352\u001b[0m                         \u001b[0mestimator\u001b[0m\u001b[0;34m=\u001b[0m\u001b[0mself\u001b[0m\u001b[0;34m,\u001b[0m \u001b[0mdtype\u001b[0m\u001b[0;34m=\u001b[0m\u001b[0mFLOAT_DTYPES\u001b[0m\u001b[0;34m,\u001b[0m\u001b[0;34m\u001b[0m\u001b[0;34m\u001b[0m\u001b[0m\n\u001b[0;32m--> 353\u001b[0;31m                         force_all_finite=\"allow-nan\")\n\u001b[0m\u001b[1;32m    354\u001b[0m \u001b[0;34m\u001b[0m\u001b[0m\n\u001b[1;32m    355\u001b[0m         \u001b[0mdata_min\u001b[0m \u001b[0;34m=\u001b[0m \u001b[0mnp\u001b[0m\u001b[0;34m.\u001b[0m\u001b[0mnanmin\u001b[0m\u001b[0;34m(\u001b[0m\u001b[0mX\u001b[0m\u001b[0;34m,\u001b[0m \u001b[0maxis\u001b[0m\u001b[0;34m=\u001b[0m\u001b[0;36m0\u001b[0m\u001b[0;34m)\u001b[0m\u001b[0;34m\u001b[0m\u001b[0;34m\u001b[0m\u001b[0m\n",
      "\u001b[0;32m//anaconda3/envs/PythonWebMongo/lib/python3.6/site-packages/sklearn/utils/validation.py\u001b[0m in \u001b[0;36mcheck_array\u001b[0;34m(array, accept_sparse, accept_large_sparse, dtype, order, copy, force_all_finite, ensure_2d, allow_nd, ensure_min_samples, ensure_min_features, warn_on_dtype, estimator)\u001b[0m\n\u001b[1;32m    494\u001b[0m             \u001b[0;32mtry\u001b[0m\u001b[0;34m:\u001b[0m\u001b[0;34m\u001b[0m\u001b[0;34m\u001b[0m\u001b[0m\n\u001b[1;32m    495\u001b[0m                 \u001b[0mwarnings\u001b[0m\u001b[0;34m.\u001b[0m\u001b[0msimplefilter\u001b[0m\u001b[0;34m(\u001b[0m\u001b[0;34m'error'\u001b[0m\u001b[0;34m,\u001b[0m \u001b[0mComplexWarning\u001b[0m\u001b[0;34m)\u001b[0m\u001b[0;34m\u001b[0m\u001b[0;34m\u001b[0m\u001b[0m\n\u001b[0;32m--> 496\u001b[0;31m                 \u001b[0marray\u001b[0m \u001b[0;34m=\u001b[0m \u001b[0mnp\u001b[0m\u001b[0;34m.\u001b[0m\u001b[0masarray\u001b[0m\u001b[0;34m(\u001b[0m\u001b[0marray\u001b[0m\u001b[0;34m,\u001b[0m \u001b[0mdtype\u001b[0m\u001b[0;34m=\u001b[0m\u001b[0mdtype\u001b[0m\u001b[0;34m,\u001b[0m \u001b[0morder\u001b[0m\u001b[0;34m=\u001b[0m\u001b[0morder\u001b[0m\u001b[0;34m)\u001b[0m\u001b[0;34m\u001b[0m\u001b[0;34m\u001b[0m\u001b[0m\n\u001b[0m\u001b[1;32m    497\u001b[0m             \u001b[0;32mexcept\u001b[0m \u001b[0mComplexWarning\u001b[0m\u001b[0;34m:\u001b[0m\u001b[0;34m\u001b[0m\u001b[0;34m\u001b[0m\u001b[0m\n\u001b[1;32m    498\u001b[0m                 raise ValueError(\"Complex data not supported\\n\"\n",
      "\u001b[0;32m//anaconda3/envs/PythonWebMongo/lib/python3.6/site-packages/numpy/core/numeric.py\u001b[0m in \u001b[0;36masarray\u001b[0;34m(a, dtype, order)\u001b[0m\n\u001b[1;32m    536\u001b[0m \u001b[0;34m\u001b[0m\u001b[0m\n\u001b[1;32m    537\u001b[0m     \"\"\"\n\u001b[0;32m--> 538\u001b[0;31m     \u001b[0;32mreturn\u001b[0m \u001b[0marray\u001b[0m\u001b[0;34m(\u001b[0m\u001b[0ma\u001b[0m\u001b[0;34m,\u001b[0m \u001b[0mdtype\u001b[0m\u001b[0;34m,\u001b[0m \u001b[0mcopy\u001b[0m\u001b[0;34m=\u001b[0m\u001b[0;32mFalse\u001b[0m\u001b[0;34m,\u001b[0m \u001b[0morder\u001b[0m\u001b[0;34m=\u001b[0m\u001b[0morder\u001b[0m\u001b[0;34m)\u001b[0m\u001b[0;34m\u001b[0m\u001b[0;34m\u001b[0m\u001b[0m\n\u001b[0m\u001b[1;32m    539\u001b[0m \u001b[0;34m\u001b[0m\u001b[0m\n\u001b[1;32m    540\u001b[0m \u001b[0;34m\u001b[0m\u001b[0m\n",
      "\u001b[0;31mValueError\u001b[0m: could not convert string to float: 'Cheesy Mashed Potatoes'"
     ]
    }
   ],
   "source": [
    "from sklearn.preprocessing import MinMaxScaler\n",
    "X_scaler = MinMaxScaler().fit(X_train)\n",
    "X_train_scaled = X_scaler.transform(X_train)\n",
    "X_test_scaled = X_scaler.transform(X_test)"
   ]
  },
  {
   "cell_type": "code",
   "execution_count": null,
   "metadata": {},
   "outputs": [],
   "source": [
    "import tensorflow as tf\n",
    "from tensorflow.keras.models import Sequential\n",
    "from tensorflow.keras.utils import to_categorical\n",
    "from tensorflow.keras.layers import Dense\n",
    "from sklearn.preprocessing import LabelEncoder\n",
    "from tensorflow.keras.callbacks import EarlyStopping"
   ]
  },
  {
   "cell_type": "code",
   "execution_count": null,
   "metadata": {},
   "outputs": [],
   "source": [
    "label_encoder = LabelEncoder()\n",
    "label_encoder.fit(y_train)\n",
    "encoded_y_train = label_encoder.transform(y_train)\n",
    "encoded_y_test = label_encoder.transform(y_test)\n",
    "y_train_categorical = to_categorical(encoded_y_train)\n",
    "y_test_categorical = to_categorical(encoded_y_test)"
   ]
  },
  {
   "cell_type": "code",
   "execution_count": null,
   "metadata": {},
   "outputs": [],
   "source": [
    "y_train_categorical"
   ]
  },
  {
   "cell_type": "code",
   "execution_count": null,
   "metadata": {},
   "outputs": [],
   "source": [
    "modelD1 = Sequential()\n",
    "modelD1.add(Dense(units=100, activation='relu', input_dim=33))\n",
    "modelD1.add(Dense(units=100, activation='relu'))\n",
    "modelD1.add(Dense(units=100, activation='relu'))\n",
    "modelD1.add(Dense(units=100, activation='relu'))\n",
    "modelD1.add(Dense(units=2, activation='softmax'))"
   ]
  },
  {
   "cell_type": "code",
   "execution_count": null,
   "metadata": {},
   "outputs": [],
   "source": [
    "modelD1.compile(optimizer='adam',\n",
    "              loss='categorical_crossentropy',\n",
    "              metrics=['accuracy'])"
   ]
  },
  {
   "cell_type": "code",
   "execution_count": null,
   "metadata": {},
   "outputs": [],
   "source": [
    "modelD1.summary()"
   ]
  },
  {
   "cell_type": "code",
   "execution_count": null,
   "metadata": {},
   "outputs": [],
   "source": [
    "callbacks = [EarlyStopping(monitor='val_loss', patience=2)]\n",
    "modelD1.fit(\n",
    "    X_train_scaled,\n",
    "    y_train_categorical,\n",
    "    callbacks=callbacks,\n",
    "    epochs=60,\n",
    "    shuffle=True,\n",
    "    verbose=2\n",
    ")"
   ]
  },
  {
   "cell_type": "code",
   "execution_count": null,
   "metadata": {},
   "outputs": [],
   "source": [
    "model_loss, model_accuracy = modelD1.evaluate(\n",
    "    X_test_scaled, y_test_categorical, verbose=2)\n",
    "print(\n",
    "    f\"Normal Neural Network - Loss: {model_loss}, Accuracy: {model_accuracy}\")"
   ]
  },
  {
   "cell_type": "code",
   "execution_count": null,
   "metadata": {},
   "outputs": [],
   "source": [
    "encoded_predictions = modelD1.predict_classes(X_test_scaled[:5])\n",
    "prediction_labels = label_encoder.inverse_transform(encoded_predictions)"
   ]
  },
  {
   "cell_type": "code",
   "execution_count": null,
   "metadata": {},
   "outputs": [],
   "source": [
    "print(f\"Predicted classes: {prediction_labels}\")\n",
    "print(f\"Actual Labels: {list(y_test[:5])}\")"
   ]
  },
  {
   "cell_type": "code",
   "execution_count": null,
   "metadata": {},
   "outputs": [],
   "source": [
    "# serialize model to JSON\n",
    "modelD1_json = modelD1.to_json()\n",
    "with open(\"modelD1.json\", \"w\") as json_file:\n",
    "    json_file.write(modelD1_json)\n",
    "# serialize weights to HDF5\n",
    "modelD1.save_weights(\"modelD1.h5\")\n",
    "print(\"Saved modelD1 to disk\")"
   ]
  },
  {
   "cell_type": "code",
   "execution_count": null,
   "metadata": {},
   "outputs": [],
   "source": [
    "from tensorflow.keras.models import model_from_json\n",
    "# load json and create model\n",
    "json_file = open('modelD1.json', 'r')\n",
    "loaded_model_json = json_file.read()\n",
    "json_file.close()\n",
    "loaded_model = model_from_json(loaded_model_json)\n",
    "# load weights into new model\n",
    "loaded_model.load_weights(\"modelD1.h5\")\n",
    "print(\"Loaded modelD1 from disk\")"
   ]
  },
  {
   "cell_type": "code",
   "execution_count": null,
   "metadata": {},
   "outputs": [],
   "source": []
  }
 ],
 "metadata": {
  "kernelspec": {
   "display_name": "Python [conda env:PythonWebMongo] *",
   "language": "python",
   "name": "conda-env-PythonWebMongo-py"
  },
  "language_info": {
   "codemirror_mode": {
    "name": "ipython",
    "version": 3
   },
   "file_extension": ".py",
   "mimetype": "text/x-python",
   "name": "python",
   "nbconvert_exporter": "python",
   "pygments_lexer": "ipython3",
   "version": "3.6.9"
  }
 },
 "nbformat": 4,
 "nbformat_minor": 2
}
