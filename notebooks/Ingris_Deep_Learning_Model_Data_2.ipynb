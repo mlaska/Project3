{
 "cells": [
  {
   "cell_type": "code",
   "execution_count": 1,
   "metadata": {},
   "outputs": [],
   "source": [
    "#Import innitial dependencies\n",
    "import warnings\n",
    "warnings.simplefilter('ignore')\n",
    "\n",
    "%matplotlib inline\n",
    "import matplotlib.pyplot as plt\n",
    "import numpy as np\n",
    "import pandas as pd"
   ]
  },
  {
   "cell_type": "code",
   "execution_count": 2,
   "metadata": {},
   "outputs": [
    {
     "data": {
      "text/html": [
       "<div>\n",
       "<style scoped>\n",
       "    .dataframe tbody tr th:only-of-type {\n",
       "        vertical-align: middle;\n",
       "    }\n",
       "\n",
       "    .dataframe tbody tr th {\n",
       "        vertical-align: top;\n",
       "    }\n",
       "\n",
       "    .dataframe thead th {\n",
       "        text-align: right;\n",
       "    }\n",
       "</style>\n",
       "<table border=\"1\" class=\"dataframe\">\n",
       "  <thead>\n",
       "    <tr style=\"text-align: right;\">\n",
       "      <th></th>\n",
       "      <th>Recipe</th>\n",
       "      <th>Servings/s</th>\n",
       "      <th>Calories/s</th>\n",
       "      <th>Fat/s</th>\n",
       "      <th>Sat_Fat/s</th>\n",
       "      <th>Trans_Fat/s</th>\n",
       "      <th>Mono_Fat/s</th>\n",
       "      <th>Poly_Fat/s</th>\n",
       "      <th>Carbs/s</th>\n",
       "      <th>Fiber/s</th>\n",
       "      <th>...</th>\n",
       "      <th>Vit_D/s</th>\n",
       "      <th>Vit_E/s</th>\n",
       "      <th>Vit_K/s</th>\n",
       "      <th>Water/s</th>\n",
       "      <th>CarbScore</th>\n",
       "      <th>CholoScore</th>\n",
       "      <th>TotalFatScore</th>\n",
       "      <th>SugarScore</th>\n",
       "      <th>HealthyGradScore</th>\n",
       "      <th>HealthyScore</th>\n",
       "    </tr>\n",
       "  </thead>\n",
       "  <tbody>\n",
       "    <tr>\n",
       "      <td>0</td>\n",
       "      <td>Baked Potatoes With Ricotta and Roasted Tomatoes</td>\n",
       "      <td>1</td>\n",
       "      <td>161.029000</td>\n",
       "      <td>0.000000</td>\n",
       "      <td>0.000000</td>\n",
       "      <td>0.0000</td>\n",
       "      <td>0.000000</td>\n",
       "      <td>0.000000</td>\n",
       "      <td>4.254760</td>\n",
       "      <td>0.000000</td>\n",
       "      <td>...</td>\n",
       "      <td>0.0</td>\n",
       "      <td>0.000000</td>\n",
       "      <td>0.000000</td>\n",
       "      <td>37.194240</td>\n",
       "      <td>1</td>\n",
       "      <td>1</td>\n",
       "      <td>1</td>\n",
       "      <td>1</td>\n",
       "      <td>4</td>\n",
       "      <td>1</td>\n",
       "    </tr>\n",
       "    <tr>\n",
       "      <td>1</td>\n",
       "      <td>Curried Carrots Giulia with Bulgur Pilaf</td>\n",
       "      <td>1</td>\n",
       "      <td>11.661605</td>\n",
       "      <td>0.049036</td>\n",
       "      <td>0.008613</td>\n",
       "      <td>0.0000</td>\n",
       "      <td>0.002366</td>\n",
       "      <td>0.018235</td>\n",
       "      <td>2.818835</td>\n",
       "      <td>0.453716</td>\n",
       "      <td>...</td>\n",
       "      <td>0.0</td>\n",
       "      <td>0.024695</td>\n",
       "      <td>0.138204</td>\n",
       "      <td>15.266107</td>\n",
       "      <td>1</td>\n",
       "      <td>1</td>\n",
       "      <td>1</td>\n",
       "      <td>1</td>\n",
       "      <td>4</td>\n",
       "      <td>1</td>\n",
       "    </tr>\n",
       "    <tr>\n",
       "      <td>2</td>\n",
       "      <td>Red Quinoa, Feta &amp; Spinach Salad</td>\n",
       "      <td>1</td>\n",
       "      <td>57.188720</td>\n",
       "      <td>0.071961</td>\n",
       "      <td>0.021565</td>\n",
       "      <td>0.0000</td>\n",
       "      <td>0.002749</td>\n",
       "      <td>0.033416</td>\n",
       "      <td>12.987234</td>\n",
       "      <td>1.665235</td>\n",
       "      <td>...</td>\n",
       "      <td>0.0</td>\n",
       "      <td>0.009165</td>\n",
       "      <td>1.682849</td>\n",
       "      <td>58.502509</td>\n",
       "      <td>1</td>\n",
       "      <td>1</td>\n",
       "      <td>1</td>\n",
       "      <td>1</td>\n",
       "      <td>4</td>\n",
       "      <td>1</td>\n",
       "    </tr>\n",
       "    <tr>\n",
       "      <td>3</td>\n",
       "      <td>Gnocchi with Spinach, Gorgonzola, and Walnuts</td>\n",
       "      <td>1</td>\n",
       "      <td>49.263500</td>\n",
       "      <td>0.389895</td>\n",
       "      <td>0.095133</td>\n",
       "      <td>0.0054</td>\n",
       "      <td>0.062711</td>\n",
       "      <td>0.123002</td>\n",
       "      <td>6.159875</td>\n",
       "      <td>0.239050</td>\n",
       "      <td>...</td>\n",
       "      <td>0.6</td>\n",
       "      <td>0.403530</td>\n",
       "      <td>1.320600</td>\n",
       "      <td>26.433825</td>\n",
       "      <td>1</td>\n",
       "      <td>1</td>\n",
       "      <td>1</td>\n",
       "      <td>1</td>\n",
       "      <td>4</td>\n",
       "      <td>1</td>\n",
       "    </tr>\n",
       "    <tr>\n",
       "      <td>4</td>\n",
       "      <td>Spiced Lentil Tacos</td>\n",
       "      <td>1</td>\n",
       "      <td>270.946167</td>\n",
       "      <td>0.392477</td>\n",
       "      <td>0.028016</td>\n",
       "      <td>0.0000</td>\n",
       "      <td>0.012172</td>\n",
       "      <td>0.046745</td>\n",
       "      <td>30.954315</td>\n",
       "      <td>1.002459</td>\n",
       "      <td>...</td>\n",
       "      <td>0.0</td>\n",
       "      <td>0.508617</td>\n",
       "      <td>5.533281</td>\n",
       "      <td>262.829972</td>\n",
       "      <td>0</td>\n",
       "      <td>1</td>\n",
       "      <td>1</td>\n",
       "      <td>1</td>\n",
       "      <td>3</td>\n",
       "      <td>1</td>\n",
       "    </tr>\n",
       "  </tbody>\n",
       "</table>\n",
       "<p>5 rows × 39 columns</p>\n",
       "</div>"
      ],
      "text/plain": [
       "                                             Recipe  Servings/s  Calories/s  \\\n",
       "0  Baked Potatoes With Ricotta and Roasted Tomatoes           1  161.029000   \n",
       "1          Curried Carrots Giulia with Bulgur Pilaf           1   11.661605   \n",
       "2                  Red Quinoa, Feta & Spinach Salad           1   57.188720   \n",
       "3     Gnocchi with Spinach, Gorgonzola, and Walnuts           1   49.263500   \n",
       "4                               Spiced Lentil Tacos           1  270.946167   \n",
       "\n",
       "      Fat/s  Sat_Fat/s  Trans_Fat/s  Mono_Fat/s  Poly_Fat/s    Carbs/s  \\\n",
       "0  0.000000   0.000000       0.0000    0.000000    0.000000   4.254760   \n",
       "1  0.049036   0.008613       0.0000    0.002366    0.018235   2.818835   \n",
       "2  0.071961   0.021565       0.0000    0.002749    0.033416  12.987234   \n",
       "3  0.389895   0.095133       0.0054    0.062711    0.123002   6.159875   \n",
       "4  0.392477   0.028016       0.0000    0.012172    0.046745  30.954315   \n",
       "\n",
       "    Fiber/s  ...  Vit_D/s   Vit_E/s   Vit_K/s     Water/s  CarbScore  \\\n",
       "0  0.000000  ...      0.0  0.000000  0.000000   37.194240          1   \n",
       "1  0.453716  ...      0.0  0.024695  0.138204   15.266107          1   \n",
       "2  1.665235  ...      0.0  0.009165  1.682849   58.502509          1   \n",
       "3  0.239050  ...      0.6  0.403530  1.320600   26.433825          1   \n",
       "4  1.002459  ...      0.0  0.508617  5.533281  262.829972          0   \n",
       "\n",
       "   CholoScore  TotalFatScore  SugarScore  HealthyGradScore  HealthyScore  \n",
       "0           1              1           1                 4             1  \n",
       "1           1              1           1                 4             1  \n",
       "2           1              1           1                 4             1  \n",
       "3           1              1           1                 4             1  \n",
       "4           1              1           1                 3             1  \n",
       "\n",
       "[5 rows x 39 columns]"
      ]
     },
     "execution_count": 2,
     "metadata": {},
     "output_type": "execute_result"
    }
   ],
   "source": [
    "# Read the csv file into a pandas DataFrame\n",
    "dataset = pd.read_csv('../data/ModelData_2.csv')\n",
    "dataset.head()\n",
    "#dataset.tail()"
   ]
  },
  {
   "cell_type": "code",
   "execution_count": 6,
   "metadata": {},
   "outputs": [
    {
     "name": "stdout",
     "output_type": "stream",
     "text": [
      "(1849, 37) (1849,)\n"
     ]
    }
   ],
   "source": [
    "# Assign X (data) and y (target) - And review \n",
    "X = dataset.drop([\"HealthyScore\",\"Recipe\"], axis=1)\n",
    "y = dataset[\"HealthyScore\"]\n",
    "print(X.shape, y.shape)"
   ]
  },
  {
   "cell_type": "code",
   "execution_count": 7,
   "metadata": {},
   "outputs": [],
   "source": [
    "# Split data into training and testing\n",
    "from sklearn.model_selection import train_test_split\n",
    "\n",
    "X_train, X_test, y_train, y_test = train_test_split(X, y, random_state=1, stratify=y)"
   ]
  },
  {
   "cell_type": "code",
   "execution_count": 8,
   "metadata": {},
   "outputs": [],
   "source": [
    "from sklearn.preprocessing import MinMaxScaler\n",
    "X_scaler = MinMaxScaler().fit(X_train)\n",
    "X_train_scaled = X_scaler.transform(X_train)\n",
    "X_test_scaled = X_scaler.transform(X_test)"
   ]
  },
  {
   "cell_type": "code",
   "execution_count": 9,
   "metadata": {},
   "outputs": [],
   "source": [
    "import tensorflow as tf\n",
    "from tensorflow.keras.models import Sequential\n",
    "from tensorflow.keras.utils import to_categorical\n",
    "from tensorflow.keras.layers import Dense\n",
    "from sklearn.preprocessing import LabelEncoder\n",
    "from tensorflow.keras.callbacks import EarlyStopping\n",
    "from tensorflow.keras import backend"
   ]
  },
  {
   "cell_type": "code",
   "execution_count": 10,
   "metadata": {},
   "outputs": [],
   "source": [
    "label_encoder = LabelEncoder()\n",
    "label_encoder.fit(y_train)\n",
    "encoded_y_train = label_encoder.transform(y_train)\n",
    "encoded_y_test = label_encoder.transform(y_test)\n",
    "y_train_categorical = to_categorical(encoded_y_train)\n",
    "y_test_categorical = to_categorical(encoded_y_test)"
   ]
  },
  {
   "cell_type": "code",
   "execution_count": 11,
   "metadata": {},
   "outputs": [
    {
     "data": {
      "text/plain": [
       "array([[1., 0.],\n",
       "       [0., 1.],\n",
       "       [0., 1.],\n",
       "       ...,\n",
       "       [0., 1.],\n",
       "       [0., 1.],\n",
       "       [0., 1.]], dtype=float32)"
      ]
     },
     "execution_count": 11,
     "metadata": {},
     "output_type": "execute_result"
    }
   ],
   "source": [
    "y_train_categorical"
   ]
  },
  {
   "cell_type": "code",
   "execution_count": 22,
   "metadata": {},
   "outputs": [],
   "source": [
    "modelD2 = Sequential()\n",
    "modelD2.add(Dense(units=100, activation='relu', input_dim=37))\n",
    "modelD2.add(Dense(units=100, activation='relu'))\n",
    "modelD2.add(Dense(units=100, activation='relu'))\n",
    "modelD2.add(Dense(units=100, activation='relu'))\n",
    "modelD2.add(Dense(units=2, activation='softmax'))"
   ]
  },
  {
   "cell_type": "code",
   "execution_count": 23,
   "metadata": {},
   "outputs": [],
   "source": [
    "modelD2.compile(optimizer='adam',\n",
    "              loss='categorical_crossentropy',\n",
    "              metrics=['accuracy'])"
   ]
  },
  {
   "cell_type": "code",
   "execution_count": 24,
   "metadata": {},
   "outputs": [
    {
     "name": "stdout",
     "output_type": "stream",
     "text": [
      "Model: \"sequential_1\"\n",
      "_________________________________________________________________\n",
      "Layer (type)                 Output Shape              Param #   \n",
      "=================================================================\n",
      "dense_5 (Dense)              (None, 100)               3800      \n",
      "_________________________________________________________________\n",
      "dense_6 (Dense)              (None, 100)               10100     \n",
      "_________________________________________________________________\n",
      "dense_7 (Dense)              (None, 100)               10100     \n",
      "_________________________________________________________________\n",
      "dense_8 (Dense)              (None, 100)               10100     \n",
      "_________________________________________________________________\n",
      "dense_9 (Dense)              (None, 2)                 202       \n",
      "=================================================================\n",
      "Total params: 34,302\n",
      "Trainable params: 34,302\n",
      "Non-trainable params: 0\n",
      "_________________________________________________________________\n"
     ]
    }
   ],
   "source": [
    "modelD2.summary()"
   ]
  },
  {
   "cell_type": "code",
   "execution_count": 25,
   "metadata": {},
   "outputs": [
    {
     "name": "stdout",
     "output_type": "stream",
     "text": [
      "Train on 1386 samples\n",
      "Epoch 1/60\n",
      "WARNING:tensorflow:Early stopping conditioned on metric `val_loss` which is not available. Available metrics are: loss,accuracy\n",
      "1386/1386 - 0s - loss: 0.2640 - accuracy: 0.9004\n",
      "Epoch 2/60\n",
      "WARNING:tensorflow:Early stopping conditioned on metric `val_loss` which is not available. Available metrics are: loss,accuracy\n",
      "1386/1386 - 0s - loss: 0.0466 - accuracy: 0.9812\n",
      "Epoch 3/60\n",
      "WARNING:tensorflow:Early stopping conditioned on metric `val_loss` which is not available. Available metrics are: loss,accuracy\n",
      "1386/1386 - 0s - loss: 0.0020 - accuracy: 1.0000\n",
      "Epoch 4/60\n",
      "WARNING:tensorflow:Early stopping conditioned on metric `val_loss` which is not available. Available metrics are: loss,accuracy\n",
      "1386/1386 - 0s - loss: 4.3979e-04 - accuracy: 1.0000\n",
      "Epoch 5/60\n",
      "WARNING:tensorflow:Early stopping conditioned on metric `val_loss` which is not available. Available metrics are: loss,accuracy\n",
      "1386/1386 - 0s - loss: 1.8327e-04 - accuracy: 1.0000\n",
      "Epoch 6/60\n",
      "WARNING:tensorflow:Early stopping conditioned on metric `val_loss` which is not available. Available metrics are: loss,accuracy\n",
      "1386/1386 - 0s - loss: 9.5808e-05 - accuracy: 1.0000\n",
      "Epoch 7/60\n",
      "WARNING:tensorflow:Early stopping conditioned on metric `val_loss` which is not available. Available metrics are: loss,accuracy\n",
      "1386/1386 - 0s - loss: 5.6974e-05 - accuracy: 1.0000\n",
      "Epoch 8/60\n",
      "WARNING:tensorflow:Early stopping conditioned on metric `val_loss` which is not available. Available metrics are: loss,accuracy\n",
      "1386/1386 - 0s - loss: 3.6415e-05 - accuracy: 1.0000\n",
      "Epoch 9/60\n",
      "WARNING:tensorflow:Early stopping conditioned on metric `val_loss` which is not available. Available metrics are: loss,accuracy\n",
      "1386/1386 - 0s - loss: 2.2364e-05 - accuracy: 1.0000\n",
      "Epoch 10/60\n",
      "WARNING:tensorflow:Early stopping conditioned on metric `val_loss` which is not available. Available metrics are: loss,accuracy\n",
      "1386/1386 - 0s - loss: 1.4229e-05 - accuracy: 1.0000\n",
      "Epoch 11/60\n",
      "WARNING:tensorflow:Early stopping conditioned on metric `val_loss` which is not available. Available metrics are: loss,accuracy\n",
      "1386/1386 - 0s - loss: 9.8337e-06 - accuracy: 1.0000\n",
      "Epoch 12/60\n",
      "WARNING:tensorflow:Early stopping conditioned on metric `val_loss` which is not available. Available metrics are: loss,accuracy\n",
      "1386/1386 - 0s - loss: 7.4420e-06 - accuracy: 1.0000\n",
      "Epoch 13/60\n",
      "WARNING:tensorflow:Early stopping conditioned on metric `val_loss` which is not available. Available metrics are: loss,accuracy\n",
      "1386/1386 - 0s - loss: 5.7398e-06 - accuracy: 1.0000\n",
      "Epoch 14/60\n",
      "WARNING:tensorflow:Early stopping conditioned on metric `val_loss` which is not available. Available metrics are: loss,accuracy\n",
      "1386/1386 - 0s - loss: 4.5599e-06 - accuracy: 1.0000\n",
      "Epoch 15/60\n",
      "WARNING:tensorflow:Early stopping conditioned on metric `val_loss` which is not available. Available metrics are: loss,accuracy\n",
      "1386/1386 - 0s - loss: 3.7177e-06 - accuracy: 1.0000\n",
      "Epoch 16/60\n",
      "WARNING:tensorflow:Early stopping conditioned on metric `val_loss` which is not available. Available metrics are: loss,accuracy\n",
      "1386/1386 - 0s - loss: 3.1242e-06 - accuracy: 1.0000\n",
      "Epoch 17/60\n",
      "WARNING:tensorflow:Early stopping conditioned on metric `val_loss` which is not available. Available metrics are: loss,accuracy\n",
      "1386/1386 - 0s - loss: 2.6117e-06 - accuracy: 1.0000\n",
      "Epoch 18/60\n",
      "WARNING:tensorflow:Early stopping conditioned on metric `val_loss` which is not available. Available metrics are: loss,accuracy\n",
      "1386/1386 - 0s - loss: 2.2673e-06 - accuracy: 1.0000\n",
      "Epoch 19/60\n",
      "WARNING:tensorflow:Early stopping conditioned on metric `val_loss` which is not available. Available metrics are: loss,accuracy\n",
      "1386/1386 - 0s - loss: 1.9593e-06 - accuracy: 1.0000\n",
      "Epoch 20/60\n",
      "WARNING:tensorflow:Early stopping conditioned on metric `val_loss` which is not available. Available metrics are: loss,accuracy\n",
      "1386/1386 - 0s - loss: 1.6611e-06 - accuracy: 1.0000\n",
      "Epoch 21/60\n",
      "WARNING:tensorflow:Early stopping conditioned on metric `val_loss` which is not available. Available metrics are: loss,accuracy\n",
      "1386/1386 - 0s - loss: 1.4570e-06 - accuracy: 1.0000\n",
      "Epoch 22/60\n",
      "WARNING:tensorflow:Early stopping conditioned on metric `val_loss` which is not available. Available metrics are: loss,accuracy\n",
      "1386/1386 - 0s - loss: 1.2556e-06 - accuracy: 1.0000\n",
      "Epoch 23/60\n",
      "WARNING:tensorflow:Early stopping conditioned on metric `val_loss` which is not available. Available metrics are: loss,accuracy\n",
      "1386/1386 - 0s - loss: 1.1224e-06 - accuracy: 1.0000\n",
      "Epoch 24/60\n",
      "WARNING:tensorflow:Early stopping conditioned on metric `val_loss` which is not available. Available metrics are: loss,accuracy\n",
      "1386/1386 - 0s - loss: 9.8084e-07 - accuracy: 1.0000\n",
      "Epoch 25/60\n",
      "WARNING:tensorflow:Early stopping conditioned on metric `val_loss` which is not available. Available metrics are: loss,accuracy\n",
      "1386/1386 - 0s - loss: 8.8443e-07 - accuracy: 1.0000\n",
      "Epoch 26/60\n",
      "WARNING:tensorflow:Early stopping conditioned on metric `val_loss` which is not available. Available metrics are: loss,accuracy\n",
      "1386/1386 - 0s - loss: 7.8904e-07 - accuracy: 1.0000\n",
      "Epoch 27/60\n",
      "WARNING:tensorflow:Early stopping conditioned on metric `val_loss` which is not available. Available metrics are: loss,accuracy\n",
      "1386/1386 - 0s - loss: 7.0493e-07 - accuracy: 1.0000\n",
      "Epoch 28/60\n",
      "WARNING:tensorflow:Early stopping conditioned on metric `val_loss` which is not available. Available metrics are: loss,accuracy\n",
      "1386/1386 - 0s - loss: 6.3208e-07 - accuracy: 1.0000\n",
      "Epoch 29/60\n",
      "WARNING:tensorflow:Early stopping conditioned on metric `val_loss` which is not available. Available metrics are: loss,accuracy\n",
      "1386/1386 - 0s - loss: 5.6981e-07 - accuracy: 1.0000\n",
      "Epoch 30/60\n",
      "WARNING:tensorflow:Early stopping conditioned on metric `val_loss` which is not available. Available metrics are: loss,accuracy\n",
      "1386/1386 - 0s - loss: 5.1975e-07 - accuracy: 1.0000\n",
      "Epoch 31/60\n",
      "WARNING:tensorflow:Early stopping conditioned on metric `val_loss` which is not available. Available metrics are: loss,accuracy\n",
      "1386/1386 - 0s - loss: 4.7735e-07 - accuracy: 1.0000\n",
      "Epoch 32/60\n",
      "WARNING:tensorflow:Early stopping conditioned on metric `val_loss` which is not available. Available metrics are: loss,accuracy\n",
      "1386/1386 - 0s - loss: 4.4080e-07 - accuracy: 1.0000\n",
      "Epoch 33/60\n",
      "WARNING:tensorflow:Early stopping conditioned on metric `val_loss` which is not available. Available metrics are: loss,accuracy\n",
      "1386/1386 - 0s - loss: 4.0897e-07 - accuracy: 1.0000\n",
      "Epoch 34/60\n",
      "WARNING:tensorflow:Early stopping conditioned on metric `val_loss` which is not available. Available metrics are: loss,accuracy\n",
      "1386/1386 - 0s - loss: 3.7999e-07 - accuracy: 1.0000\n",
      "Epoch 35/60\n",
      "WARNING:tensorflow:Early stopping conditioned on metric `val_loss` which is not available. Available metrics are: loss,accuracy\n",
      "1386/1386 - 0s - loss: 3.5315e-07 - accuracy: 1.0000\n",
      "Epoch 36/60\n",
      "WARNING:tensorflow:Early stopping conditioned on metric `val_loss` which is not available. Available metrics are: loss,accuracy\n",
      "1386/1386 - 0s - loss: 3.2976e-07 - accuracy: 1.0000\n",
      "Epoch 37/60\n",
      "WARNING:tensorflow:Early stopping conditioned on metric `val_loss` which is not available. Available metrics are: loss,accuracy\n",
      "1386/1386 - 0s - loss: 3.0490e-07 - accuracy: 1.0000\n",
      "Epoch 38/60\n",
      "WARNING:tensorflow:Early stopping conditioned on metric `val_loss` which is not available. Available metrics are: loss,accuracy\n",
      "1386/1386 - 0s - loss: 2.7884e-07 - accuracy: 1.0000\n",
      "Epoch 39/60\n",
      "WARNING:tensorflow:Early stopping conditioned on metric `val_loss` which is not available. Available metrics are: loss,accuracy\n",
      "1386/1386 - 0s - loss: 2.5364e-07 - accuracy: 1.0000\n",
      "Epoch 40/60\n",
      "WARNING:tensorflow:Early stopping conditioned on metric `val_loss` which is not available. Available metrics are: loss,accuracy\n",
      "1386/1386 - 0s - loss: 2.3042e-07 - accuracy: 1.0000\n",
      "Epoch 41/60\n",
      "WARNING:tensorflow:Early stopping conditioned on metric `val_loss` which is not available. Available metrics are: loss,accuracy\n",
      "1386/1386 - 0s - loss: 2.0616e-07 - accuracy: 1.0000\n",
      "Epoch 42/60\n",
      "WARNING:tensorflow:Early stopping conditioned on metric `val_loss` which is not available. Available metrics are: loss,accuracy\n",
      "1386/1386 - 0s - loss: 1.9137e-07 - accuracy: 1.0000\n",
      "Epoch 43/60\n",
      "WARNING:tensorflow:Early stopping conditioned on metric `val_loss` which is not available. Available metrics are: loss,accuracy\n"
     ]
    },
    {
     "name": "stdout",
     "output_type": "stream",
     "text": [
      "1386/1386 - 0s - loss: 1.7469e-07 - accuracy: 1.0000\n",
      "Epoch 44/60\n",
      "WARNING:tensorflow:Early stopping conditioned on metric `val_loss` which is not available. Available metrics are: loss,accuracy\n",
      "1386/1386 - 0s - loss: 1.6385e-07 - accuracy: 1.0000\n",
      "Epoch 45/60\n",
      "WARNING:tensorflow:Early stopping conditioned on metric `val_loss` which is not available. Available metrics are: loss,accuracy\n",
      "1386/1386 - 0s - loss: 1.5043e-07 - accuracy: 1.0000\n",
      "Epoch 46/60\n",
      "WARNING:tensorflow:Early stopping conditioned on metric `val_loss` which is not available. Available metrics are: loss,accuracy\n",
      "1386/1386 - 0s - loss: 1.4217e-07 - accuracy: 1.0000\n",
      "Epoch 47/60\n",
      "WARNING:tensorflow:Early stopping conditioned on metric `val_loss` which is not available. Available metrics are: loss,accuracy\n",
      "1386/1386 - 0s - loss: 1.3108e-07 - accuracy: 1.0000\n",
      "Epoch 48/60\n",
      "WARNING:tensorflow:Early stopping conditioned on metric `val_loss` which is not available. Available metrics are: loss,accuracy\n",
      "1386/1386 - 0s - loss: 1.2291e-07 - accuracy: 1.0000\n",
      "Epoch 49/60\n",
      "WARNING:tensorflow:Early stopping conditioned on metric `val_loss` which is not available. Available metrics are: loss,accuracy\n",
      "1386/1386 - 0s - loss: 1.1525e-07 - accuracy: 1.0000\n",
      "Epoch 50/60\n",
      "WARNING:tensorflow:Early stopping conditioned on metric `val_loss` which is not available. Available metrics are: loss,accuracy\n",
      "1386/1386 - 0s - loss: 1.0966e-07 - accuracy: 1.0000\n",
      "Epoch 51/60\n",
      "WARNING:tensorflow:Early stopping conditioned on metric `val_loss` which is not available. Available metrics are: loss,accuracy\n",
      "1386/1386 - 0s - loss: 1.0347e-07 - accuracy: 1.0000\n",
      "Epoch 52/60\n",
      "WARNING:tensorflow:Early stopping conditioned on metric `val_loss` which is not available. Available metrics are: loss,accuracy\n",
      "1386/1386 - 0s - loss: 9.8223e-08 - accuracy: 1.0000\n",
      "Epoch 53/60\n",
      "WARNING:tensorflow:Early stopping conditioned on metric `val_loss` which is not available. Available metrics are: loss,accuracy\n",
      "1386/1386 - 0s - loss: 9.4610e-08 - accuracy: 1.0000\n",
      "Epoch 54/60\n",
      "WARNING:tensorflow:Early stopping conditioned on metric `val_loss` which is not available. Available metrics are: loss,accuracy\n",
      "1386/1386 - 0s - loss: 8.7988e-08 - accuracy: 1.0000\n",
      "Epoch 55/60\n",
      "WARNING:tensorflow:Early stopping conditioned on metric `val_loss` which is not available. Available metrics are: loss,accuracy\n",
      "1386/1386 - 0s - loss: 8.4461e-08 - accuracy: 1.0000\n",
      "Epoch 56/60\n",
      "WARNING:tensorflow:Early stopping conditioned on metric `val_loss` which is not available. Available metrics are: loss,accuracy\n",
      "1386/1386 - 0s - loss: 7.9817e-08 - accuracy: 1.0000\n",
      "Epoch 57/60\n",
      "WARNING:tensorflow:Early stopping conditioned on metric `val_loss` which is not available. Available metrics are: loss,accuracy\n",
      "1386/1386 - 0s - loss: 7.6634e-08 - accuracy: 1.0000\n",
      "Epoch 58/60\n",
      "WARNING:tensorflow:Early stopping conditioned on metric `val_loss` which is not available. Available metrics are: loss,accuracy\n",
      "1386/1386 - 0s - loss: 7.3452e-08 - accuracy: 1.0000\n",
      "Epoch 59/60\n",
      "WARNING:tensorflow:Early stopping conditioned on metric `val_loss` which is not available. Available metrics are: loss,accuracy\n",
      "1386/1386 - 0s - loss: 7.0098e-08 - accuracy: 1.0000\n",
      "Epoch 60/60\n",
      "WARNING:tensorflow:Early stopping conditioned on metric `val_loss` which is not available. Available metrics are: loss,accuracy\n",
      "1386/1386 - 0s - loss: 6.6141e-08 - accuracy: 1.0000\n"
     ]
    },
    {
     "data": {
      "text/plain": [
       "<tensorflow.python.keras.callbacks.History at 0x142a4c6d8>"
      ]
     },
     "execution_count": 25,
     "metadata": {},
     "output_type": "execute_result"
    }
   ],
   "source": [
    "callbacks = [EarlyStopping(monitor='val_loss', patience=2)]\n",
    "modelD2.fit(\n",
    "    X_train_scaled,\n",
    "    y_train_categorical,\n",
    "    callbacks=callbacks,\n",
    "    epochs=60,\n",
    "    shuffle=True,\n",
    "    verbose=2\n",
    ")"
   ]
  },
  {
   "cell_type": "code",
   "execution_count": 26,
   "metadata": {},
   "outputs": [
    {
     "name": "stdout",
     "output_type": "stream",
     "text": [
      "463/463 - 0s - loss: 2.5695e-07 - accuracy: 1.0000\n",
      "Normal Neural Network - Loss: 2.569527813062297e-07, Accuracy: 1.0\n"
     ]
    }
   ],
   "source": [
    "\n",
    "model_loss, model_accuracy = modelD2.evaluate(\n",
    "    X_test_scaled, y_test_categorical, verbose=2)\n",
    "print(\n",
    "    f\"Normal Neural Network - Loss: {model_loss}, Accuracy: {model_accuracy}\")"
   ]
  },
  {
   "cell_type": "code",
   "execution_count": 27,
   "metadata": {},
   "outputs": [],
   "source": [
    "\n",
    "encoded_predictions = modelD2.predict_classes(X_test_scaled[:5])\n",
    "prediction_labels = label_encoder.inverse_transform(encoded_predictions)"
   ]
  },
  {
   "cell_type": "code",
   "execution_count": 28,
   "metadata": {},
   "outputs": [
    {
     "name": "stdout",
     "output_type": "stream",
     "text": [
      "Predicted classes: [1 1 1 1 1]\n",
      "Actual Labels: [1, 1, 1, 1, 1]\n"
     ]
    }
   ],
   "source": [
    "print(f\"Predicted classes: {prediction_labels}\")\n",
    "print(f\"Actual Labels: {list(y_test[:5])}\")"
   ]
  },
  {
   "cell_type": "code",
   "execution_count": 35,
   "metadata": {},
   "outputs": [
    {
     "name": "stdout",
     "output_type": "stream",
     "text": [
      "Saved modelD2 to disk\n"
     ]
    }
   ],
   "source": [
    "# serialize model to JSON\n",
    "model_json = modelD2.to_json()\n",
    "with open(\"modelD2.json\", \"w\") as json_file:\n",
    "    json_file.write(model_json)\n",
    "# serialize weights to HDF5\n",
    "modelD2.save_weights(\"modelD2.h5\")\n",
    "print(\"Saved modelD2 to disk\")"
   ]
  },
  {
   "cell_type": "code",
   "execution_count": 36,
   "metadata": {},
   "outputs": [],
   "source": [
    "from tensorflow.keras.models import model_from_json"
   ]
  },
  {
   "cell_type": "code",
   "execution_count": 37,
   "metadata": {},
   "outputs": [
    {
     "name": "stdout",
     "output_type": "stream",
     "text": [
      "Loaded model from disk\n"
     ]
    }
   ],
   "source": [
    "# load json and create model\n",
    "json_file = open('modelD2.json', 'r')\n",
    "loaded_model_json = json_file.read()\n",
    "json_file.close()\n",
    "loaded_model = model_from_json(loaded_model_json)\n",
    "# load weights into new model\n",
    "loaded_model.load_weights(\"modelD2.h5\")\n",
    "print(\"Loaded model from disk\")"
   ]
  },
  {
   "cell_type": "code",
   "execution_count": null,
   "metadata": {},
   "outputs": [],
   "source": []
  }
 ],
 "metadata": {
  "kernelspec": {
   "display_name": "Python [conda env:PythonWebMongo] *",
   "language": "python",
   "name": "conda-env-PythonWebMongo-py"
  },
  "language_info": {
   "codemirror_mode": {
    "name": "ipython",
    "version": 3
   },
   "file_extension": ".py",
   "mimetype": "text/x-python",
   "name": "python",
   "nbconvert_exporter": "python",
   "pygments_lexer": "ipython3",
   "version": "3.6.9"
  }
 },
 "nbformat": 4,
 "nbformat_minor": 2
}
