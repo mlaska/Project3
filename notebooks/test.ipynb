{
 "cells": [
  {
   "cell_type": "code",
   "execution_count": 1,
   "metadata": {},
   "outputs": [],
   "source": [
    "#Import innitial dependencies\n",
    "import warnings\n",
    "warnings.simplefilter('ignore')\n",
    "\n",
    "%matplotlib inline\n",
    "import matplotlib.pyplot as plt\n",
    "import numpy as np\n",
    "import pandas as pd"
   ]
  },
  {
   "cell_type": "code",
   "execution_count": 2,
   "metadata": {},
   "outputs": [
    {
     "data": {
      "text/html": [
       "<div>\n",
       "<style scoped>\n",
       "    .dataframe tbody tr th:only-of-type {\n",
       "        vertical-align: middle;\n",
       "    }\n",
       "\n",
       "    .dataframe tbody tr th {\n",
       "        vertical-align: top;\n",
       "    }\n",
       "\n",
       "    .dataframe thead th {\n",
       "        text-align: right;\n",
       "    }\n",
       "</style>\n",
       "<table border=\"1\" class=\"dataframe\">\n",
       "  <thead>\n",
       "    <tr style=\"text-align: right;\">\n",
       "      <th></th>\n",
       "      <th>Servings/s</th>\n",
       "      <th>Calories/s</th>\n",
       "      <th>Fat/s</th>\n",
       "      <th>Sat_Fat/s</th>\n",
       "      <th>Trans_Fat/s</th>\n",
       "      <th>Mono_Fat/s</th>\n",
       "      <th>Poly_Fat/s</th>\n",
       "      <th>Carbs/s</th>\n",
       "      <th>Fiber/s</th>\n",
       "      <th>Sugars/s</th>\n",
       "      <th>...</th>\n",
       "      <th>Vit_D/s</th>\n",
       "      <th>Vit_E/s</th>\n",
       "      <th>Vit_K/s</th>\n",
       "      <th>Water/s</th>\n",
       "      <th>CarbScore</th>\n",
       "      <th>CholoScore</th>\n",
       "      <th>TotalFatScore</th>\n",
       "      <th>SugarScore</th>\n",
       "      <th>HealthyGradScore</th>\n",
       "      <th>HealthyScore</th>\n",
       "    </tr>\n",
       "  </thead>\n",
       "  <tbody>\n",
       "    <tr>\n",
       "      <td>0</td>\n",
       "      <td>1</td>\n",
       "      <td>100.783428</td>\n",
       "      <td>3.706567</td>\n",
       "      <td>0.478814</td>\n",
       "      <td>0.001744</td>\n",
       "      <td>1.190110</td>\n",
       "      <td>1.662028</td>\n",
       "      <td>12.935162</td>\n",
       "      <td>2.351610</td>\n",
       "      <td>0.802769</td>\n",
       "      <td>...</td>\n",
       "      <td>0.004374</td>\n",
       "      <td>0.598908</td>\n",
       "      <td>6.954946</td>\n",
       "      <td>58.288488</td>\n",
       "      <td>1</td>\n",
       "      <td>1</td>\n",
       "      <td>1</td>\n",
       "      <td>1</td>\n",
       "      <td>4</td>\n",
       "      <td>1</td>\n",
       "    </tr>\n",
       "    <tr>\n",
       "      <td>1</td>\n",
       "      <td>1</td>\n",
       "      <td>93.527653</td>\n",
       "      <td>3.372725</td>\n",
       "      <td>1.217548</td>\n",
       "      <td>0.058185</td>\n",
       "      <td>1.620999</td>\n",
       "      <td>0.330805</td>\n",
       "      <td>14.524590</td>\n",
       "      <td>4.714058</td>\n",
       "      <td>6.700123</td>\n",
       "      <td>...</td>\n",
       "      <td>1.065000</td>\n",
       "      <td>1.597009</td>\n",
       "      <td>50.059982</td>\n",
       "      <td>176.442965</td>\n",
       "      <td>1</td>\n",
       "      <td>1</td>\n",
       "      <td>1</td>\n",
       "      <td>1</td>\n",
       "      <td>4</td>\n",
       "      <td>1</td>\n",
       "    </tr>\n",
       "    <tr>\n",
       "      <td>2</td>\n",
       "      <td>1</td>\n",
       "      <td>101.527163</td>\n",
       "      <td>3.950959</td>\n",
       "      <td>0.675617</td>\n",
       "      <td>0.000000</td>\n",
       "      <td>2.540638</td>\n",
       "      <td>0.436856</td>\n",
       "      <td>14.242660</td>\n",
       "      <td>2.691121</td>\n",
       "      <td>3.243868</td>\n",
       "      <td>...</td>\n",
       "      <td>0.281250</td>\n",
       "      <td>1.147884</td>\n",
       "      <td>27.677754</td>\n",
       "      <td>119.293643</td>\n",
       "      <td>1</td>\n",
       "      <td>1</td>\n",
       "      <td>1</td>\n",
       "      <td>1</td>\n",
       "      <td>4</td>\n",
       "      <td>1</td>\n",
       "    </tr>\n",
       "    <tr>\n",
       "      <td>3</td>\n",
       "      <td>1</td>\n",
       "      <td>81.389119</td>\n",
       "      <td>3.745693</td>\n",
       "      <td>0.558064</td>\n",
       "      <td>0.000000</td>\n",
       "      <td>2.499658</td>\n",
       "      <td>0.501540</td>\n",
       "      <td>10.870846</td>\n",
       "      <td>4.103485</td>\n",
       "      <td>5.607749</td>\n",
       "      <td>...</td>\n",
       "      <td>0.000000</td>\n",
       "      <td>2.261851</td>\n",
       "      <td>62.910781</td>\n",
       "      <td>214.230832</td>\n",
       "      <td>1</td>\n",
       "      <td>1</td>\n",
       "      <td>1</td>\n",
       "      <td>1</td>\n",
       "      <td>4</td>\n",
       "      <td>1</td>\n",
       "    </tr>\n",
       "    <tr>\n",
       "      <td>4</td>\n",
       "      <td>1</td>\n",
       "      <td>76.274230</td>\n",
       "      <td>3.713546</td>\n",
       "      <td>0.424643</td>\n",
       "      <td>0.000000</td>\n",
       "      <td>1.780703</td>\n",
       "      <td>1.329019</td>\n",
       "      <td>9.893677</td>\n",
       "      <td>3.403681</td>\n",
       "      <td>5.222974</td>\n",
       "      <td>...</td>\n",
       "      <td>0.000000</td>\n",
       "      <td>1.356905</td>\n",
       "      <td>47.798536</td>\n",
       "      <td>137.342582</td>\n",
       "      <td>1</td>\n",
       "      <td>1</td>\n",
       "      <td>1</td>\n",
       "      <td>1</td>\n",
       "      <td>4</td>\n",
       "      <td>1</td>\n",
       "    </tr>\n",
       "  </tbody>\n",
       "</table>\n",
       "<p>5 rows × 38 columns</p>\n",
       "</div>"
      ],
      "text/plain": [
       "   Servings/s  Calories/s     Fat/s  Sat_Fat/s  Trans_Fat/s  Mono_Fat/s  \\\n",
       "0           1  100.783428  3.706567   0.478814     0.001744    1.190110   \n",
       "1           1   93.527653  3.372725   1.217548     0.058185    1.620999   \n",
       "2           1  101.527163  3.950959   0.675617     0.000000    2.540638   \n",
       "3           1   81.389119  3.745693   0.558064     0.000000    2.499658   \n",
       "4           1   76.274230  3.713546   0.424643     0.000000    1.780703   \n",
       "\n",
       "   Poly_Fat/s    Carbs/s   Fiber/s  Sugars/s  ...   Vit_D/s   Vit_E/s  \\\n",
       "0    1.662028  12.935162  2.351610  0.802769  ...  0.004374  0.598908   \n",
       "1    0.330805  14.524590  4.714058  6.700123  ...  1.065000  1.597009   \n",
       "2    0.436856  14.242660  2.691121  3.243868  ...  0.281250  1.147884   \n",
       "3    0.501540  10.870846  4.103485  5.607749  ...  0.000000  2.261851   \n",
       "4    1.329019   9.893677  3.403681  5.222974  ...  0.000000  1.356905   \n",
       "\n",
       "     Vit_K/s     Water/s  CarbScore  CholoScore  TotalFatScore  SugarScore  \\\n",
       "0   6.954946   58.288488          1           1              1           1   \n",
       "1  50.059982  176.442965          1           1              1           1   \n",
       "2  27.677754  119.293643          1           1              1           1   \n",
       "3  62.910781  214.230832          1           1              1           1   \n",
       "4  47.798536  137.342582          1           1              1           1   \n",
       "\n",
       "   HealthyGradScore  HealthyScore  \n",
       "0                 4             1  \n",
       "1                 4             1  \n",
       "2                 4             1  \n",
       "3                 4             1  \n",
       "4                 4             1  \n",
       "\n",
       "[5 rows x 38 columns]"
      ]
     },
     "execution_count": 2,
     "metadata": {},
     "output_type": "execute_result"
    }
   ],
   "source": [
    "# Read the csv file into a pandas DataFrame\n",
    "dataset = pd.read_csv('../data/ModelData_2.csv')\n",
    "dataset.head()\n",
    "#dataset.tail()"
   ]
  },
  {
   "cell_type": "code",
   "execution_count": 3,
   "metadata": {},
   "outputs": [
    {
     "name": "stdout",
     "output_type": "stream",
     "text": [
      "(1849, 37) (1849,)\n"
     ]
    }
   ],
   "source": [
    "# Assign X (data) and y (target) - And review \n",
    "X = dataset.drop(\"HealthyScore\", axis=1)\n",
    "y = dataset[\"HealthyScore\"]\n",
    "print(X.shape, y.shape)"
   ]
  },
  {
   "cell_type": "code",
   "execution_count": 4,
   "metadata": {},
   "outputs": [],
   "source": [
    "# Split data into training and testing\n",
    "from sklearn.model_selection import train_test_split\n",
    "\n",
    "X_train, X_test, y_train, y_test = train_test_split(X, y, random_state=1, stratify=y)"
   ]
  },
  {
   "cell_type": "code",
   "execution_count": 5,
   "metadata": {},
   "outputs": [],
   "source": [
    "from sklearn.preprocessing import MinMaxScaler\n",
    "X_scaler = MinMaxScaler().fit(X_train)\n",
    "X_train_scaled = X_scaler.transform(X_train)\n",
    "X_test_scaled = X_scaler.transform(X_test)"
   ]
  },
  {
   "cell_type": "code",
   "execution_count": 6,
   "metadata": {},
   "outputs": [],
   "source": [
    "import tensorflow as tf\n",
    "from tensorflow.keras.models import Sequential\n",
    "from tensorflow.keras.utils import to_categorical\n",
    "from tensorflow.keras.layers import Dense\n",
    "from sklearn.preprocessing import LabelEncoder\n",
    "from tensorflow.keras.callbacks import EarlyStopping\n",
    "from tensorflow.keras import backend"
   ]
  },
  {
   "cell_type": "code",
   "execution_count": 7,
   "metadata": {},
   "outputs": [],
   "source": [
    "label_encoder = LabelEncoder()\n",
    "label_encoder.fit(y_train)\n",
    "encoded_y_train = label_encoder.transform(y_train)\n",
    "encoded_y_test = label_encoder.transform(y_test)\n",
    "y_train_categorical = to_categorical(encoded_y_train)\n",
    "y_test_categorical = to_categorical(encoded_y_test)"
   ]
  },
  {
   "cell_type": "code",
   "execution_count": 8,
   "metadata": {},
   "outputs": [
    {
     "data": {
      "text/plain": [
       "array([[1., 0.],\n",
       "       [0., 1.],\n",
       "       [0., 1.],\n",
       "       ...,\n",
       "       [0., 1.],\n",
       "       [0., 1.],\n",
       "       [0., 1.]], dtype=float32)"
      ]
     },
     "execution_count": 8,
     "metadata": {},
     "output_type": "execute_result"
    }
   ],
   "source": [
    "y_train_categorical"
   ]
  },
  {
   "cell_type": "code",
   "execution_count": 9,
   "metadata": {},
   "outputs": [
    {
     "name": "stdout",
     "output_type": "stream",
     "text": [
      "Loaded model from disk\n"
     ]
    }
   ],
   "source": [
    "from tensorflow.keras.models import model_from_json\n",
    "# load json and create model\n",
    "json_file = open('model.json', 'r')\n",
    "loaded_model_json = json_file.read()\n",
    "json_file.close()\n",
    "loaded_model = model_from_json(loaded_model_json)\n",
    "# load weights into new model\n",
    "loaded_model.load_weights(\"model.h5\")\n",
    "print(\"Loaded model from disk\")"
   ]
  },
  {
   "cell_type": "code",
   "execution_count": 15,
   "metadata": {},
   "outputs": [],
   "source": [
    "loaded_model.compile(optimizer='adam',\n",
    "              loss='categorical_crossentropy',\n",
    "              metrics=['accuracy'])"
   ]
  },
  {
   "cell_type": "code",
   "execution_count": 16,
   "metadata": {},
   "outputs": [
    {
     "name": "stdout",
     "output_type": "stream",
     "text": [
      "463/463 - 0s - loss: 4.5958e-07 - accuracy: 1.0000\n",
      "Normal Neural Network - Loss: 4.5957959721692324e-07, Accuracy: 1.0\n"
     ]
    }
   ],
   "source": [
    "model_loss, model_accuracy = loaded_model.evaluate(\n",
    "    X_test_scaled, y_test_categorical, verbose=2)\n",
    "print(\n",
    "    f\"Normal Neural Network - Loss: {model_loss}, Accuracy: {model_accuracy}\")"
   ]
  },
  {
   "cell_type": "code",
   "execution_count": 25,
   "metadata": {},
   "outputs": [],
   "source": [
    "encoded_predictions = loaded_model.predict_classes(X_test_scaled[:15])\n",
    "prediction_labels = label_encoder.inverse_transform(encoded_predictions)"
   ]
  },
  {
   "cell_type": "code",
   "execution_count": 26,
   "metadata": {},
   "outputs": [
    {
     "name": "stdout",
     "output_type": "stream",
     "text": [
      "Predicted classes: [1 1 1 1 1 1 1 1 1 1 1 0 1 1 1]\n",
      "Actual Labels: [1, 1, 1, 1, 1, 1, 1, 1, 1, 1, 1, 0, 1, 1, 1]\n"
     ]
    }
   ],
   "source": [
    "print(f\"Predicted classes: {prediction_labels}\")\n",
    "print(f\"Actual Labels: {list(y_test[:15])}\")"
   ]
  },
  {
   "cell_type": "code",
   "execution_count": null,
   "metadata": {},
   "outputs": [],
   "source": []
  }
 ],
 "metadata": {
  "kernelspec": {
   "display_name": "Python [conda env:PythonWebMongo] *",
   "language": "python",
   "name": "conda-env-PythonWebMongo-py"
  },
  "language_info": {
   "codemirror_mode": {
    "name": "ipython",
    "version": 3
   },
   "file_extension": ".py",
   "mimetype": "text/x-python",
   "name": "python",
   "nbconvert_exporter": "python",
   "pygments_lexer": "ipython3",
   "version": "3.6.9"
  }
 },
 "nbformat": 4,
 "nbformat_minor": 2
}
