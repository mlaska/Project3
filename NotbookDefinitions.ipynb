{
 "nbformat": 4,
 "nbformat_minor": 2,
 "metadata": {
  "language_info": {
   "name": "python",
   "codemirror_mode": {
    "name": "ipython",
    "version": 3
   },
   "version": "3.6.9-final"
  },
  "orig_nbformat": 2,
  "file_extension": ".py",
  "mimetype": "text/x-python",
  "name": "python",
  "npconvert_exporter": "python",
  "pygments_lexer": "ipython3",
  "version": 3,
  "kernelspec": {
   "name": "python36964bitpythondataconda126281240c234b3dbb97759dcc94d6eb",
   "display_name": "Python 3.6.9 64-bit ('PythonData': conda)"
  }
 },
 "cells": [
  {
   "cell_type": "code",
   "execution_count": 103,
   "metadata": {},
   "outputs": [],
   "source": [
    "class regressionmodel:\n",
    "    trainedlist = ['Calories/s', 'Fat/s', 'Sat_Fat/s', 'Trans_Fat/s', 'Mono_Fat/s', 'Poly_Fat/s',\n",
    "                'Carbs/s', 'Fiber/s', 'Sugars/s','Protein/s', 'Cholesterol/s', 'Sodium/s']\n",
    "    \n",
    "    def updatexdata(self,new_list):\n",
    "        self.trainedlist = new_list\n",
    "    \n",
    "    def prepdata(self, a):\n",
    "        import pandas as pd   \n",
    "        alldata = pd.read_csv(a)\n",
    "        try:\n",
    "            slim =  alldata[self.trainedlist]\n",
    "            self.xdata = slim\n",
    "            self.ydata = alldata.drop(self.trainedlist, axis = 1)\n",
    "            self.alldata = alldata\n",
    "        except: print(f'Update the preset \"trainedlist\" to match your file  Current: {trainedlist}')\n",
    "    def modelcretion(self,xdata,ydata):\n",
    "        #split data into test and tain\n",
    "        from sklearn.model_selection import train_test_split\n",
    "        from sklearn.linear_model import LogisticRegression\n",
    "        X_train, X_test, y_train, y_test = train_test_split(xdata, ydata, random_state=1, stratify=ydata)\n",
    "        classifier = LogisticRegression(solver='lbfgs').fit(X_train, y_train)\n",
    "        self.score = classifier.score(xdata, ydata)\n",
    "        self.model = classifier\n",
    "    def updatefile(self,data,model,modelname,ydata):\n",
    "        import csv\n",
    "        import pandas as pd\n",
    "        for x in range(len(data)):\n",
    "            df = pd.DataFrame()\n",
    "            df['Recipe'] = 'a'\n",
    "            df['Recipe Prediction'] = ydata\n",
    "            df['ModelPrediction'] = model.predict(data[self.trainedlist])\n",
    "            df['Timestamp'] = pd.Timestamp.today().strftime(\"%Y-%m-%d %H:%M\")\n",
    "            df['ModelName'] = modelname\n",
    "        df.to_csv('MasterModelPredictions.csv', mode='a', index=False)\n",
    "\n"
   ]
  },
  {
   "cell_type": "code",
   "execution_count": 107,
   "metadata": {},
   "outputs": [
    {
     "data": {
      "text/plain": "Index(['Servings/s', 'Calcium/s', 'Magnesium/s', 'Potassium/s', 'Iron/s',\n       'Zinc/s', 'Phosphorus/s', 'Vit_A/s', 'Vit_C/s', 'B1/s', 'B2/s', 'B3/s',\n       'B6/s', 'Folate_eq/s', 'Folate_food/s', 'B12/s', 'Vit_D/s', 'Vit_E/s',\n       'Vit_K/s', 'Water/s', 'Healthy', 'HealthyLabel'],\n      dtype='object')"
     },
     "execution_count": 107,
     "metadata": {},
     "output_type": "execute_result"
    }
   ],
   "source": [
    "#David's Model\n",
    "b = regressionmodel()\n",
    "b.prepdata(\"data/ModelData_1.csv\")\n",
    "b.ydata.columns\n",
    "#predictorColumn = 'HealthyLabel'\n",
    "#b.modelcretion(b.xdata,b.ydata[predictorColumn])\n",
    "#b.updatefile(b.data,b.model,'David',b.ydata[predictorColumn])"
   ]
  },
  {
   "cell_type": "code",
   "execution_count": 97,
   "metadata": {},
   "outputs": [],
   "source": [
    "cList = ['CarbScore','CholoScore','TotalFatScore','SugarScore','HealthyGradScore','HealthyScore']\n",
    "#Cindy Modely 1\n",
    "for g in cList:\n",
    "    c = regressionmodel()\n",
    "    c.prepdata(\"data/ModelData_2.csv\")\n",
    "    predictorColumn = g\n",
    "    c.modelcretion(c.xdata,c.ydata[predictorColumn])\n",
    "    c.updatefile(c.data,c.model,f'Cindy {g}',c.ydata[predictorColumn])\n"
   ]
  },
  {
   "cell_type": "code",
   "execution_count": 78,
   "metadata": {},
   "outputs": [
    {
     "ename": "TypeError",
     "evalue": "'RangeIndex' object is not callable",
     "output_type": "error",
     "traceback": [
      "\u001b[1;31m---------------------------------------------------------------------------\u001b[0m",
      "\u001b[1;31mTypeError\u001b[0m                                 Traceback (most recent call last)",
      "\u001b[1;32m<ipython-input-78-7bd0a81d783d>\u001b[0m in \u001b[0;36m<module>\u001b[1;34m\u001b[0m\n\u001b[1;32m----> 1\u001b[1;33m \u001b[0mb\u001b[0m\u001b[1;33m.\u001b[0m\u001b[0mdata\u001b[0m\u001b[1;33m.\u001b[0m\u001b[0mindex\u001b[0m\u001b[1;33m(\u001b[0m\u001b[1;33m)\u001b[0m\u001b[1;33m\u001b[0m\u001b[1;33m\u001b[0m\u001b[0m\n\u001b[0m",
      "\u001b[1;31mTypeError\u001b[0m: 'RangeIndex' object is not callable"
     ]
    }
   ],
   "source": [
    "cList = ['CarbScore','CholoScore','TotalFatScore','SugarScore','HealthyGradScore','HealthyScore']\n"
   ]
  },
  {
   "cell_type": "code",
   "execution_count": 37,
   "metadata": {},
   "outputs": [
    {
     "data": {
      "text/html": "<div>\n<style scoped>\n    .dataframe tbody tr th:only-of-type {\n        vertical-align: middle;\n    }\n\n    .dataframe tbody tr th {\n        vertical-align: top;\n    }\n\n    .dataframe thead th {\n        text-align: right;\n    }\n</style>\n<table border=\"1\" class=\"dataframe\">\n  <thead>\n    <tr style=\"text-align: right;\">\n      <th></th>\n      <th>Calories/s</th>\n      <th>Fat/s</th>\n      <th>Sat_Fat/s</th>\n      <th>Trans_Fat/s</th>\n      <th>Mono_Fat/s</th>\n      <th>Poly_Fat/s</th>\n      <th>Carbs/s</th>\n      <th>Fiber/s</th>\n      <th>Sugars/s</th>\n      <th>Protein/s</th>\n      <th>Cholesterol/s</th>\n      <th>Sodium/s</th>\n      <th>HealthyLabel</th>\n    </tr>\n  </thead>\n  <tbody>\n    <tr>\n      <td>0</td>\n      <td>100.783428</td>\n      <td>3.706567</td>\n      <td>0.478814</td>\n      <td>0.001744</td>\n      <td>1.190110</td>\n      <td>1.662028</td>\n      <td>12.935162</td>\n      <td>2.351610</td>\n      <td>0.802769</td>\n      <td>4.440050</td>\n      <td>0.000000</td>\n      <td>12.835803</td>\n      <td>healthy</td>\n    </tr>\n    <tr>\n      <td>1</td>\n      <td>347.140000</td>\n      <td>10.435950</td>\n      <td>5.186700</td>\n      <td>0.002800</td>\n      <td>0.836965</td>\n      <td>1.371930</td>\n      <td>50.166950</td>\n      <td>5.145125</td>\n      <td>11.966875</td>\n      <td>16.724538</td>\n      <td>19.152000</td>\n      <td>147.217300</td>\n      <td>healthy</td>\n    </tr>\n    <tr>\n      <td>2</td>\n      <td>186.432627</td>\n      <td>7.025285</td>\n      <td>0.571038</td>\n      <td>0.047022</td>\n      <td>4.549795</td>\n      <td>1.417736</td>\n      <td>27.970713</td>\n      <td>7.459813</td>\n      <td>2.474852</td>\n      <td>5.142212</td>\n      <td>0.000000</td>\n      <td>386.777895</td>\n      <td>healthy</td>\n    </tr>\n    <tr>\n      <td>3</td>\n      <td>137.675750</td>\n      <td>5.925203</td>\n      <td>0.385312</td>\n      <td>0.000000</td>\n      <td>3.360537</td>\n      <td>1.417505</td>\n      <td>19.815070</td>\n      <td>3.004800</td>\n      <td>13.549490</td>\n      <td>3.465458</td>\n      <td>0.000000</td>\n      <td>100.355500</td>\n      <td>healthy</td>\n    </tr>\n    <tr>\n      <td>4</td>\n      <td>198.456000</td>\n      <td>8.087615</td>\n      <td>1.228474</td>\n      <td>0.000420</td>\n      <td>5.501382</td>\n      <td>0.972848</td>\n      <td>29.506350</td>\n      <td>7.253650</td>\n      <td>4.189283</td>\n      <td>5.774230</td>\n      <td>0.000000</td>\n      <td>641.658069</td>\n      <td>healthy</td>\n    </tr>\n    <tr>\n      <td>...</td>\n      <td>...</td>\n      <td>...</td>\n      <td>...</td>\n      <td>...</td>\n      <td>...</td>\n      <td>...</td>\n      <td>...</td>\n      <td>...</td>\n      <td>...</td>\n      <td>...</td>\n      <td>...</td>\n      <td>...</td>\n      <td>...</td>\n    </tr>\n    <tr>\n      <td>1844</td>\n      <td>885.555968</td>\n      <td>53.018457</td>\n      <td>21.638624</td>\n      <td>0.465476</td>\n      <td>22.651813</td>\n      <td>3.703198</td>\n      <td>41.120828</td>\n      <td>3.092770</td>\n      <td>5.914407</td>\n      <td>44.262083</td>\n      <td>175.963054</td>\n      <td>668.928226</td>\n      <td>unhealthy</td>\n    </tr>\n    <tr>\n      <td>1845</td>\n      <td>1199.745198</td>\n      <td>52.064223</td>\n      <td>21.695331</td>\n      <td>0.055055</td>\n      <td>20.987810</td>\n      <td>6.193580</td>\n      <td>132.531893</td>\n      <td>9.903497</td>\n      <td>10.157808</td>\n      <td>48.270264</td>\n      <td>99.680000</td>\n      <td>2843.324175</td>\n      <td>unhealthy</td>\n    </tr>\n    <tr>\n      <td>1846</td>\n      <td>575.813376</td>\n      <td>29.716701</td>\n      <td>17.255565</td>\n      <td>0.668482</td>\n      <td>7.652011</td>\n      <td>1.418145</td>\n      <td>48.349441</td>\n      <td>2.459127</td>\n      <td>2.626872</td>\n      <td>28.114553</td>\n      <td>85.888248</td>\n      <td>792.458453</td>\n      <td>unhealthy</td>\n    </tr>\n    <tr>\n      <td>1847</td>\n      <td>223.868965</td>\n      <td>8.640837</td>\n      <td>3.993991</td>\n      <td>0.006804</td>\n      <td>2.284186</td>\n      <td>1.262668</td>\n      <td>26.627345</td>\n      <td>5.083299</td>\n      <td>11.188909</td>\n      <td>10.390328</td>\n      <td>22.906415</td>\n      <td>861.444700</td>\n      <td>unhealthy</td>\n    </tr>\n    <tr>\n      <td>1848</td>\n      <td>453.053030</td>\n      <td>29.118689</td>\n      <td>15.106494</td>\n      <td>0.082530</td>\n      <td>8.686451</td>\n      <td>1.648327</td>\n      <td>34.804224</td>\n      <td>2.571149</td>\n      <td>5.466125</td>\n      <td>14.342200</td>\n      <td>82.124489</td>\n      <td>363.201978</td>\n      <td>unhealthy</td>\n    </tr>\n  </tbody>\n</table>\n<p>1849 rows × 13 columns</p>\n</div>",
      "text/plain": "       Calories/s      Fat/s  Sat_Fat/s  Trans_Fat/s  Mono_Fat/s  Poly_Fat/s  \\\n0      100.783428   3.706567   0.478814     0.001744    1.190110    1.662028   \n1      347.140000  10.435950   5.186700     0.002800    0.836965    1.371930   \n2      186.432627   7.025285   0.571038     0.047022    4.549795    1.417736   \n3      137.675750   5.925203   0.385312     0.000000    3.360537    1.417505   \n4      198.456000   8.087615   1.228474     0.000420    5.501382    0.972848   \n...           ...        ...        ...          ...         ...         ...   \n1844   885.555968  53.018457  21.638624     0.465476   22.651813    3.703198   \n1845  1199.745198  52.064223  21.695331     0.055055   20.987810    6.193580   \n1846   575.813376  29.716701  17.255565     0.668482    7.652011    1.418145   \n1847   223.868965   8.640837   3.993991     0.006804    2.284186    1.262668   \n1848   453.053030  29.118689  15.106494     0.082530    8.686451    1.648327   \n\n         Carbs/s   Fiber/s   Sugars/s  Protein/s  Cholesterol/s     Sodium/s  \\\n0      12.935162  2.351610   0.802769   4.440050       0.000000    12.835803   \n1      50.166950  5.145125  11.966875  16.724538      19.152000   147.217300   \n2      27.970713  7.459813   2.474852   5.142212       0.000000   386.777895   \n3      19.815070  3.004800  13.549490   3.465458       0.000000   100.355500   \n4      29.506350  7.253650   4.189283   5.774230       0.000000   641.658069   \n...          ...       ...        ...        ...            ...          ...   \n1844   41.120828  3.092770   5.914407  44.262083     175.963054   668.928226   \n1845  132.531893  9.903497  10.157808  48.270264      99.680000  2843.324175   \n1846   48.349441  2.459127   2.626872  28.114553      85.888248   792.458453   \n1847   26.627345  5.083299  11.188909  10.390328      22.906415   861.444700   \n1848   34.804224  2.571149   5.466125  14.342200      82.124489   363.201978   \n\n     HealthyLabel  \n0         healthy  \n1         healthy  \n2         healthy  \n3         healthy  \n4         healthy  \n...           ...  \n1844    unhealthy  \n1845    unhealthy  \n1846    unhealthy  \n1847    unhealthy  \n1848    unhealthy  \n\n[1849 rows x 13 columns]"
     },
     "execution_count": 37,
     "metadata": {},
     "output_type": "execute_result"
    }
   ],
   "source": [
    "b.data[b.trainedlist]"
   ]
  },
  {
   "cell_type": "code",
   "execution_count": 8,
   "metadata": {},
   "outputs": [
    {
     "name": "stdout",
     "output_type": "stream",
     "text": "0.8528934559221201\n"
    }
   ],
   "source": [
    "print(b.score)"
   ]
  }
 ]
}