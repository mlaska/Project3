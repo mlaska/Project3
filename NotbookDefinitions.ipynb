{
 "nbformat": 4,
 "nbformat_minor": 2,
 "metadata": {
  "language_info": {
   "name": "python",
   "codemirror_mode": {
    "name": "ipython",
    "version": 3
   },
   "version": "3.6.9-final"
  },
  "orig_nbformat": 2,
  "file_extension": ".py",
  "mimetype": "text/x-python",
  "name": "python",
  "npconvert_exporter": "python",
  "pygments_lexer": "ipython3",
  "version": 3,
  "kernelspec": {
   "name": "python36964bitpythondataconda126281240c234b3dbb97759dcc94d6eb",
   "display_name": "Python 3.6.9 64-bit ('PythonData': conda)"
  }
 },
 "cells": [
  {
   "cell_type": "code",
   "execution_count": 81,
   "metadata": {},
   "outputs": [],
   "source": [
    "class regressionmodel:\n",
    "    trainedlist = ['Calories/s', 'Fat/s', 'Sat_Fat/s', 'Trans_Fat/s', 'Mono_Fat/s', 'Poly_Fat/s',\n",
    "                'Carbs/s', 'Fiber/s', 'Sugars/s','Protein/s', 'Cholesterol/s', 'Sodium/s']\n",
    "    def updatelist(self,new_list):\n",
    "        self.trainedlist = new_list\n",
    "    def prepdata(self, a):\n",
    "        import pandas as pd   \n",
    "        begin = pd.read_csv(a)\n",
    "        try:\n",
    "            slim =  begin[['Calories/s', 'Fat/s', 'Sat_Fat/s', 'Trans_Fat/s', 'Mono_Fat/s', 'Poly_Fat/s',\n",
    "                    'Carbs/s', 'Fiber/s', 'Sugars/s','Protein/s', 'Cholesterol/s', 'Sodium/s']]\n",
    "            self.xdata = slim\n",
    "            self.ydata = begin.drop(self.trainedlist, axis = 1)\n",
    "            self.data = begin\n",
    "        except: print(f'Update the preset \"trainedlist\" to match your file  Current: {trainedlist}')\n",
    "    def modelcretion(self,xdata,ydata):\n",
    "        #split data into test and tain\n",
    "        from sklearn.model_selection import train_test_split\n",
    "        from sklearn.linear_model import LogisticRegression\n",
    "        X_train, X_test, y_train, y_test = train_test_split(xdata, ydata, random_state=1, stratify=ydata)\n",
    "        classifier = LogisticRegression(solver='lbfgs').fit(X_train, y_train)\n",
    "        self.score = classifier.score(xdata, ydata)\n",
    "        self.model = classifier\n",
    "    def updatefile(self,data,model,modelname):\n",
    "        import csv\n",
    "        import pandas as pd\n",
    "        for x in data:\n",
    "            data['ModelPrediction'] = model.predict(data[self.trainedlist])\n",
    "            data['Timestamp'] = pd.Timestamp.today().strftime(\"%Y-%m-%d %H:%M\")\n",
    "            data['ModelName'] = modelname\n",
    "        data.to_csv('MasterModelPredictions.csv', mode='a', index=False)\n",
    "\n",
    "b = regressionmodel()"
   ]
  },
  {
   "cell_type": "code",
   "execution_count": 84,
   "metadata": {},
   "outputs": [],
   "source": [
    "b.prepdata(\"data/ModelData_1.csv\")\n",
    "b.modelcretion(b.xdata,b.ydata['HealthyLabel'])\n",
    "b.updatefile(b.data,b.model,'Michaels Test Model 2')"
   ]
  }
 ]
}